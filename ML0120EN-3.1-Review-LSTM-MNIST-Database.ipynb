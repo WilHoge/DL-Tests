{
    "nbformat_minor": 1, 
    "cells": [
        {
            "source": "![Big Data University](https://ibm.box.com/shared/static/jvcqp2iy2jlx2b32rmzdt0tx8lvxgzkp.png)\n# <center> Sequence classification with LSTM on MNIST</center>\n<div class=\"alert alert-block alert-info\">\n<font size = 3><strong>In this notebook you will learn the How to use TensorFlow for create a Recurrent Neural Network</strong></font>\n<br>    \n- <a href=\"#intro\">Introduction</a>\n<br>\n- <p><a href=\"#arch\">Architectures</a></p>\n    - <a href=\"#lstm\">Long Short-Term Memory Model (LSTM)</a>\n\n- <p><a href=\"#build\">Building a LSTM with TensorFlow</a></p>\n</div>\n----------------", 
            "cell_type": "markdown", 
            "metadata": {}
        }, 
        {
            "source": "## <a id=\"intro\"/> Introduction\nRecurrent Neural Networks are Deep Learning models with simple structures and a feedback mechanism builted-in, or in different words, the output of a layer is added to the next input and fed back to the same layer.\n\nThe Recurrent Neural Network is a specialized type of Neural Network that solves the issue of **maintaining context for Sequential data** -- such as Weather data, Stocks, Genes, etc. At each iterative step, the processing unit takes in an input and the current state of the network, and produces an output and a new state that is **re-fed into the network**.\n\nHowever, **this model has some problems**. It's very computationally expensive to maintain the state for a large amount of units, even more so over a long amount of time. Additionally, Recurrent Networks are very sensitive to changes in their parameters. As such, they are prone to different problems with their Gradient Descent optimizer -- they either grow exponentially (Exploding Gradient) or drop down to near zero and stabilize (Vanishing Gradient), both problems that greatly harm a model's learning capability.\n\nTo solve these problems, Hochreiter and Schmidhuber published a paper in 1997 describing a way to keep information over long periods of time and additionally solve the oversensitivity to parameter changes, i.e., make backpropagating through the Recurrent Networks more viable.\n\n(In this notebook, we will cover only LSTM and its implementation using TensorFlow)", 
            "cell_type": "markdown", 
            "metadata": {}
        }, 
        {
            "source": "## <a id=\"arch\"/>Architectures\n- Fully Recurrent Network\n- Recursive Neural Networks\n- Hopfield Networks\n- Elman Networks and Jordan Networks\n- Echo State Networks\n- Neural history compressor\n- **The Long Short-Term Memory Model (LSTM)**\n\n<img src=\"https://ibm.box.com/shared/static/v7p90neiaqghmpwawpiecmz9n7080m59.png\" alt=\"Representation of a Recurrent Neural Network\" width=80%>", 
            "cell_type": "markdown", 
            "metadata": {}
        }, 
        {
            "source": "##  <a id=\"lstm\"/>LSTM\nLSTM is one of the proposed solutions or upgrades to the **Recurrent Neural Network model**. ", 
            "cell_type": "markdown", 
            "metadata": {}
        }, 
        {
            "source": "It is an abstraction of how computer memory works. It is \"bundled\" with whatever processing unit is implemented in the Recurrent Network, although outside of its flow, and is responsible for keeping, reading, and outputting information for the model. The way it works is simple: you have a linear unit, which is the information cell itself, surrounded by three logistic gates responsible for maintaining the data. One gate is for inputting data into the information cell, one is for outputting data from the input cell, and the last one is to keep or forget data depending on the needs of the network.\n\nThanks to that, it not only solves the problem of keeping states, because the network can choose to forget data whenever information is not needed, it also solves the gradient problems, since the Logistic Gates have a very nice derivative.\n\n### Long Short-Term Memory Architecture\n\nAs seen before, the Long Short-Term Memory is composed of a linear unit surrounded by three logistic gates. The name for these gates vary from place to place, but the most usual names for them are:\n- the \"Input\" or \"Write\" Gate, which handles the writing of data into the information cell, \n- the \"Output\" or \"Read\" Gate, which handles the sending of data back onto the Recurrent Network, and \n- the \"Keep\" or \"Forget\" Gate, which handles the maintaining and modification of the data stored in the information cell.\n\n<img src=https://ibm.box.com/shared/static/zx10duv5egw0baw6gh2hzsgr8ex45gsg.png width=\"720\"/>\n<center>*Diagram of the Long Short-Term Memory Unit*</center>\n\nThe three gates are the centerpiece of the LSTM unit. The gates, when activated by the network, perform their respective functions. For example, the Input Gate will write whatever data it is passed onto the information cell, the Output Gate will return whatever data is in the information cell, and the Keep Gate will maintain the data in the information cell. These gates are analog and multiplicative, and as such, can modify the data based on the signal they are sent.\n\n---", 
            "cell_type": "markdown", 
            "metadata": {}
        }, 
        {
            "source": "## <a id=\"build\"/> Building a LSTM with TensorFlow", 
            "cell_type": "markdown", 
            "metadata": {}
        }, 
        {
            "source": "#### LSTM for Classification\nAlthough RNN is mostly used to model sequences and predict sequential data, we can still classify images using a LSTM network. If we consider every image row as a sequence of pixels, we can feed a LSTM network for classification. Lets use the famous MNIST dataset here. Because MNIST image shape is 28*28px, we will then handle 28 sequences of 28 steps for every sample.", 
            "cell_type": "markdown", 
            "metadata": {}
        }, 
        {
            "source": "#### MNIST Dataset\n\nTensor flow already provides **helper functions** to download and process the MNIST dataset.", 
            "cell_type": "markdown", 
            "metadata": {}
        }, 
        {
            "source": "%matplotlib inline\nimport warnings\nwarnings.filterwarnings('ignore')\n\nimport numpy as np\nimport matplotlib.pyplot as plt\n\nimport tensorflow as tf\n", 
            "cell_type": "code", 
            "metadata": {}, 
            "outputs": [], 
            "execution_count": 1
        }, 
        {
            "source": "from tensorflow.examples.tutorials.mnist import input_data\nmnist = input_data.read_data_sets(\".\", one_hot=True)", 
            "cell_type": "code", 
            "metadata": {}, 
            "outputs": [
                {
                    "output_type": "stream", 
                    "name": "stdout", 
                    "text": "Extracting ./train-images-idx3-ubyte.gz\nExtracting ./train-labels-idx1-ubyte.gz\nExtracting ./t10k-images-idx3-ubyte.gz\nExtracting ./t10k-labels-idx1-ubyte.gz\n"
                }
            ], 
            "execution_count": 2
        }, 
        {
            "source": "The function **`input_data.read_data_sets(...)`** loads the entire dataset and returns an object **`tensorflow.contrib.learn.python.learn.datasets.mnist.DataSets`**\n\n\nThe argument **(`one_hot=False`)** creates the label arrays as 10-dimensional binary vectors (only zeros and ones), in which the index cell for the number one, is the class label.", 
            "cell_type": "markdown", 
            "metadata": {}
        }, 
        {
            "source": "trainimgs = mnist.train.images\ntrainlabels = mnist.train.labels\ntestimgs = mnist.test.images\ntestlabels = mnist.test.labels \n\nntrain = trainimgs.shape[0]\nntest = testimgs.shape[0]\ndim = trainimgs.shape[1]\nnclasses = trainlabels.shape[1]\nprint \"Train Images: \", trainimgs.shape\nprint \"Train Labels  \", trainlabels.shape\nprint\nprint \"Test Images:  \" , testimgs.shape\nprint \"Test Labels:  \", testlabels.shape", 
            "cell_type": "code", 
            "metadata": {}, 
            "outputs": [
                {
                    "output_type": "stream", 
                    "name": "stdout", 
                    "text": "Train Images:  (55000, 784)\nTrain Labels   (55000, 10)\n\nTest Images:   (10000, 784)\nTest Labels:   (10000, 10)\n"
                }
            ], 
            "execution_count": 3
        }, 
        {
            "source": "### Let's get one sample, just to understand the structure of MNIST dataset \n\nThe next code snippet prints the **label vector** (one_hot format), **the class** and actual sample formatted as **image**:", 
            "cell_type": "markdown", 
            "metadata": {}
        }, 
        {
            "source": "samplesIdx = [100, 101, 102]  #<-- You can change these numbers here to see other samples\n\nfrom mpl_toolkits.mplot3d import Axes3D\nfig = plt.figure()\n\nax1 = fig.add_subplot(121)\nax1.imshow(testimgs[samplesIdx[0]].reshape([28,28]), cmap='gray')\n\n\nxx, yy = np.meshgrid(np.linspace(0,28,28), np.linspace(0,28,28))\nX =  xx ; Y =  yy\nZ =  100*np.ones(X.shape)\n\nimg = testimgs[77].reshape([28,28])\nax = fig.add_subplot(122, projection='3d')\nax.set_zlim((0,200))\n\n\noffset=200\nfor i in samplesIdx:\n    img = testimgs[i].reshape([28,28]).transpose()\n    ax.contourf(X, Y, img, 200, zdir='z', offset=offset, cmap=\"gray\")\n    offset -= 100\n\n    ax.set_xticks([])\nax.set_yticks([])\nax.set_zticks([])\n\nplt.show()\n\n\nfor i in samplesIdx:\n    print \"Sample: {0} - Class: {1} - Label Vector: {2} \".format(i, np.nonzero(testlabels[i])[0], testlabels[i])\n\n", 
            "cell_type": "code", 
            "metadata": {}, 
            "outputs": [
                {
                    "output_type": "display_data", 
                    "data": {
                        "image/png": "[encoded data removed]", 
                        "text/plain": "<matplotlib.figure.Figure at 0x7fba91c7a810>"
                    }, 
                    "metadata": {}
                }, 
                {
                    "output_type": "stream", 
                    "name": "stdout", 
                    "text": "Sample: 100 - Class: [6] - Label Vector: [ 0.  0.  0.  0.  0.  0.  1.  0.  0.  0.] \nSample: 101 - Class: [0] - Label Vector: [ 1.  0.  0.  0.  0.  0.  0.  0.  0.  0.] \nSample: 102 - Class: [5] - Label Vector: [ 0.  0.  0.  0.  0.  1.  0.  0.  0.  0.] \n"
                }
            ], 
            "execution_count": 4
        }, 
        {
            "source": "---\n### Let's Understand the parameters, inputs and outputs\n\nWe will treat the MNIST image $\\in \\mathcal{R}^{28 \\times 28}$ as $28$ sequences of a vector $\\mathbf{x} \\in \\mathcal{R}^{28}$. \n\n#### Our simple RNN consists of  \n1. One input layer which converts a $28*28$ dimensional input to an $128$ dimensional hidden layer, \n2. One intermediate recurrent neural network (LSTM) \n3. One output layer which converts an $128$ dimensional output of the LSTM to $10$ dimensional output indicating a class label. ", 
            "cell_type": "markdown", 
            "metadata": {}
        }, 
        {
            "source": "n_input = 28 # MNIST data input (img shape: 28*28)\nn_steps = 28 # timesteps\nn_hidden = 128 # hidden layer num of features\nn_classes = 10 # MNIST total classes (0-9 digits)\n\n\nlearning_rate = 0.001\ntraining_iters = 100000\nbatch_size = 100\ndisplay_step = 10", 
            "cell_type": "code", 
            "metadata": {}, 
            "outputs": [], 
            "execution_count": 5
        }, 
        {
            "source": "#### Construct a Recurrent Neural Network", 
            "cell_type": "markdown", 
            "metadata": {}
        }, 
        {
            "source": "The input should be a Tensor of shape: [batch_size, time_steps, input_dimension], but in our case it would be (?, 28, 28)", 
            "cell_type": "markdown", 
            "metadata": {}
        }, 
        {
            "source": "x = tf.placeholder(dtype=\"float\", shape=[None, n_steps, n_input], name=\"x\") # Current data input shape: (batch_size, n_steps, n_input) [100x28x28]\ny = tf.placeholder(dtype=\"float\", shape=[None, n_classes], name=\"y\")", 
            "cell_type": "code", 
            "metadata": {}, 
            "outputs": [], 
            "execution_count": 6
        }, 
        {
            "source": "Lets create the weight and biases for the read out layer", 
            "cell_type": "markdown", 
            "metadata": {}
        }, 
        {
            "source": "weights = {\n    'out': tf.Variable(tf.random_normal([n_hidden, n_classes]))\n}\nbiases = {\n    'out': tf.Variable(tf.random_normal([n_classes]))\n}", 
            "cell_type": "code", 
            "metadata": {}, 
            "outputs": [], 
            "execution_count": 7
        }, 
        {
            "source": "Lets define a lstm cell with tensorflow", 
            "cell_type": "markdown", 
            "metadata": {}
        }, 
        {
            "source": "lstm_cell = tf.contrib.rnn.BasicLSTMCell(n_hidden, forget_bias=0.5)", 
            "cell_type": "code", 
            "metadata": {}, 
            "outputs": [], 
            "execution_count": 8
        }, 
        {
            "source": "__dynamic_rnn__ creates a recurrent neural network specified from __lstm_cell__:", 
            "cell_type": "markdown", 
            "metadata": {}
        }, 
        {
            "source": "outputs, states = tf.nn.dynamic_rnn(lstm_cell, inputs=x, dtype=tf.float32)", 
            "cell_type": "code", 
            "metadata": {}, 
            "outputs": [], 
            "execution_count": 9
        }, 
        {
            "source": "The output of the rnn would be a [100x28x128] matrix. we use the linear activation to map it to a [?x10 matrix]", 
            "cell_type": "markdown", 
            "metadata": {}
        }, 
        {
            "source": "output = tf.reshape(tf.split(outputs, 28, axis=1, num=None, name='split')[-1],[-1,128])\npred = tf.matmul(output, weights['out']) + biases['out']", 
            "cell_type": "code", 
            "metadata": {}, 
            "outputs": [], 
            "execution_count": 10
        }, 
        {
            "source": "__labels__ and __logits__ should be tensors of shape [100x10], lets check it out:", 
            "cell_type": "markdown", 
            "metadata": {}
        }, 
        {
            "source": "pred", 
            "cell_type": "code", 
            "metadata": {}, 
            "outputs": [
                {
                    "output_type": "execute_result", 
                    "data": {
                        "text/plain": "<tf.Tensor 'add:0' shape=(?, 10) dtype=float32>"
                    }, 
                    "execution_count": 11, 
                    "metadata": {}
                }
            ], 
            "execution_count": 11
        }, 
        {
            "source": "Now, we define the cost function and optimizer:", 
            "cell_type": "markdown", 
            "metadata": {}
        }, 
        {
            "source": "cost = tf.reduce_mean(tf.nn.softmax_cross_entropy_with_logits(labels=y, logits=pred ))\noptimizer = tf.train.AdamOptimizer(learning_rate=learning_rate).minimize(cost)", 
            "cell_type": "code", 
            "metadata": {}, 
            "outputs": [], 
            "execution_count": 12
        }, 
        {
            "source": "Here we define the accuracy and evaluation methods to be used in the learning process:", 
            "cell_type": "markdown", 
            "metadata": {}
        }, 
        {
            "source": "correct_pred = tf.equal(tf.argmax(pred,1), tf.argmax(y,1))\naccuracy = tf.reduce_mean(tf.cast(correct_pred, tf.float32))", 
            "cell_type": "code", 
            "metadata": {}, 
            "outputs": [], 
            "execution_count": 13
        }, 
        {
            "source": "Just recall that we will treat the MNIST image $\\in \\mathcal{R}^{28 \\times 28}$ as $28$ sequences of a vector $\\mathbf{x} \\in \\mathcal{R}^{28}$. ", 
            "cell_type": "markdown", 
            "metadata": {}
        }, 
        {
            "source": "init = tf.global_variables_initializer()\n\nwith tf.Session() as sess:\n    sess.run(init)\n    step = 1\n    # Keep training until reach max iterations\n    while step * batch_size < training_iters:\n\n        # We will read a batch of 100 images [100 x 784] as batch_x\n        # batch_y is a matrix of [100x10]\n        batch_x, batch_y = mnist.train.next_batch(batch_size)\n        \n        # We consider each row of the image as one sequence\n        # Reshape data to get 28 seq of 28 elements, so that, batxh_x is [100x28x28]\n        batch_x = batch_x.reshape((batch_size, n_steps, n_input))\n    \n\n        # Run optimization op (backprop)\n        sess.run(optimizer, feed_dict={x: batch_x, y: batch_y})\n        \n        \n        if step % display_step == 0:\n            # Calculate batch accuracy\n            acc = sess.run(accuracy, feed_dict={x: batch_x, y: batch_y})\n            # Calculate batch loss\n            loss = sess.run(cost, feed_dict={x: batch_x, y: batch_y})\n            print(\"Iter \" + str(step*batch_size) + \", Minibatch Loss= \" + \\\n                  \"{:.6f}\".format(loss) + \", Training Accuracy= \" + \\\n                  \"{:.5f}\".format(acc))\n        step += 1\n    print(\"Optimization Finished!\")\n\n    # Calculate accuracy for 128 mnist test images\n    test_len = 128\n    test_data = mnist.test.images[:test_len].reshape((-1, n_steps, n_input))\n    test_label = mnist.test.labels[:test_len]\n    print(\"Testing Accuracy:\", \\\n        sess.run(accuracy, feed_dict={x: test_data, y: test_label}))", 
            "cell_type": "code", 
            "metadata": {}, 
            "outputs": [
                {
                    "output_type": "stream", 
                    "name": "stdout", 
                    "text": "Iter 1000, Minibatch Loss= 1.991019, Training Accuracy= 0.29000\nIter 2000, Minibatch Loss= 1.423171, Training Accuracy= 0.55000\nIter 3000, Minibatch Loss= 1.122652, Training Accuracy= 0.60000\nIter 4000, Minibatch Loss= 1.075281, Training Accuracy= 0.57000\nIter 5000, Minibatch Loss= 1.064645, Training Accuracy= 0.66000\nIter 6000, Minibatch Loss= 0.853632, Training Accuracy= 0.76000\nIter 7000, Minibatch Loss= 0.752041, Training Accuracy= 0.71000\nIter 8000, Minibatch Loss= 0.547159, Training Accuracy= 0.81000\nIter 9000, Minibatch Loss= 0.582333, Training Accuracy= 0.84000\nIter 10000, Minibatch Loss= 0.634651, Training Accuracy= 0.75000\nIter 11000, Minibatch Loss= 0.544258, Training Accuracy= 0.84000\nIter 12000, Minibatch Loss= 0.510694, Training Accuracy= 0.77000\nIter 13000, Minibatch Loss= 0.352628, Training Accuracy= 0.85000\nIter 14000, Minibatch Loss= 0.424480, Training Accuracy= 0.88000\nIter 15000, Minibatch Loss= 0.342558, Training Accuracy= 0.89000\nIter 16000, Minibatch Loss= 0.511520, Training Accuracy= 0.81000\nIter 17000, Minibatch Loss= 0.299231, Training Accuracy= 0.92000\nIter 18000, Minibatch Loss= 0.432579, Training Accuracy= 0.85000\nIter 19000, Minibatch Loss= 0.338493, Training Accuracy= 0.92000\nIter 20000, Minibatch Loss= 0.412884, Training Accuracy= 0.83000\nIter 21000, Minibatch Loss= 0.248158, Training Accuracy= 0.93000\nIter 22000, Minibatch Loss= 0.320864, Training Accuracy= 0.90000\nIter 23000, Minibatch Loss= 0.277629, Training Accuracy= 0.91000\nIter 24000, Minibatch Loss= 0.287403, Training Accuracy= 0.90000\nIter 25000, Minibatch Loss= 0.243106, Training Accuracy= 0.93000\nIter 26000, Minibatch Loss= 0.361962, Training Accuracy= 0.90000\nIter 27000, Minibatch Loss= 0.223595, Training Accuracy= 0.94000\nIter 28000, Minibatch Loss= 0.182414, Training Accuracy= 0.93000\nIter 29000, Minibatch Loss= 0.220166, Training Accuracy= 0.93000\nIter 30000, Minibatch Loss= 0.272162, Training Accuracy= 0.90000\nIter 31000, Minibatch Loss= 0.226860, Training Accuracy= 0.90000\nIter 32000, Minibatch Loss= 0.217564, Training Accuracy= 0.88000\nIter 33000, Minibatch Loss= 0.267942, Training Accuracy= 0.93000\nIter 34000, Minibatch Loss= 0.247386, Training Accuracy= 0.92000\nIter 35000, Minibatch Loss= 0.228812, Training Accuracy= 0.93000\nIter 36000, Minibatch Loss= 0.241205, Training Accuracy= 0.94000\nIter 37000, Minibatch Loss= 0.404645, Training Accuracy= 0.89000\nIter 38000, Minibatch Loss= 0.163925, Training Accuracy= 0.94000\nIter 39000, Minibatch Loss= 0.205439, Training Accuracy= 0.92000\nIter 40000, Minibatch Loss= 0.161268, Training Accuracy= 0.94000\nIter 41000, Minibatch Loss= 0.154463, Training Accuracy= 0.98000\nIter 42000, Minibatch Loss= 0.158531, Training Accuracy= 0.95000\nIter 43000, Minibatch Loss= 0.216034, Training Accuracy= 0.92000\nIter 44000, Minibatch Loss= 0.114139, Training Accuracy= 0.96000\nIter 45000, Minibatch Loss= 0.162069, Training Accuracy= 0.94000\nIter 46000, Minibatch Loss= 0.193452, Training Accuracy= 0.94000\nIter 47000, Minibatch Loss= 0.246421, Training Accuracy= 0.92000\nIter 48000, Minibatch Loss= 0.106975, Training Accuracy= 0.97000\nIter 49000, Minibatch Loss= 0.137678, Training Accuracy= 0.94000\nIter 50000, Minibatch Loss= 0.158858, Training Accuracy= 0.95000\nIter 51000, Minibatch Loss= 0.169151, Training Accuracy= 0.96000\nIter 52000, Minibatch Loss= 0.146888, Training Accuracy= 0.95000\nIter 53000, Minibatch Loss= 0.125003, Training Accuracy= 0.97000\nIter 54000, Minibatch Loss= 0.151654, Training Accuracy= 0.96000\nIter 55000, Minibatch Loss= 0.138530, Training Accuracy= 0.97000\nIter 56000, Minibatch Loss= 0.242893, Training Accuracy= 0.92000\nIter 57000, Minibatch Loss= 0.180807, Training Accuracy= 0.94000\nIter 58000, Minibatch Loss= 0.212268, Training Accuracy= 0.94000\nIter 59000, Minibatch Loss= 0.255444, Training Accuracy= 0.92000\nIter 60000, Minibatch Loss= 0.104567, Training Accuracy= 0.96000\nIter 61000, Minibatch Loss= 0.124316, Training Accuracy= 0.95000\nIter 62000, Minibatch Loss= 0.140287, Training Accuracy= 0.94000\nIter 63000, Minibatch Loss= 0.105059, Training Accuracy= 0.97000\nIter 64000, Minibatch Loss= 0.112002, Training Accuracy= 0.97000\nIter 65000, Minibatch Loss= 0.166391, Training Accuracy= 0.96000\nIter 66000, Minibatch Loss= 0.148018, Training Accuracy= 0.96000\nIter 67000, Minibatch Loss= 0.136026, Training Accuracy= 0.95000\nIter 68000, Minibatch Loss= 0.181487, Training Accuracy= 0.94000\nIter 69000, Minibatch Loss= 0.151079, Training Accuracy= 0.95000\nIter 70000, Minibatch Loss= 0.090212, Training Accuracy= 0.98000\nIter 71000, Minibatch Loss= 0.164131, Training Accuracy= 0.93000\nIter 72000, Minibatch Loss= 0.122507, Training Accuracy= 0.96000\nIter 73000, Minibatch Loss= 0.043297, Training Accuracy= 0.99000\nIter 74000, Minibatch Loss= 0.112344, Training Accuracy= 0.96000\nIter 75000, Minibatch Loss= 0.224126, Training Accuracy= 0.95000\nIter 76000, Minibatch Loss= 0.163680, Training Accuracy= 0.98000\nIter 77000, Minibatch Loss= 0.166616, Training Accuracy= 0.95000\nIter 78000, Minibatch Loss= 0.112494, Training Accuracy= 0.97000\nIter 79000, Minibatch Loss= 0.134274, Training Accuracy= 0.95000\nIter 80000, Minibatch Loss= 0.174561, Training Accuracy= 0.95000\nIter 81000, Minibatch Loss= 0.100790, Training Accuracy= 0.96000\nIter 82000, Minibatch Loss= 0.166244, Training Accuracy= 0.96000\nIter 83000, Minibatch Loss= 0.076511, Training Accuracy= 0.95000\nIter 84000, Minibatch Loss= 0.062129, Training Accuracy= 0.97000\nIter 85000, Minibatch Loss= 0.097733, Training Accuracy= 0.99000\nIter 86000, Minibatch Loss= 0.114474, Training Accuracy= 0.95000\nIter 87000, Minibatch Loss= 0.110934, Training Accuracy= 0.95000\nIter 88000, Minibatch Loss= 0.174146, Training Accuracy= 0.96000\nIter 89000, Minibatch Loss= 0.081754, Training Accuracy= 0.97000\nIter 90000, Minibatch Loss= 0.054897, Training Accuracy= 0.98000\nIter 91000, Minibatch Loss= 0.101752, Training Accuracy= 0.97000\nIter 92000, Minibatch Loss= 0.054505, Training Accuracy= 0.98000\nIter 93000, Minibatch Loss= 0.033628, Training Accuracy= 0.99000\nIter 94000, Minibatch Loss= 0.217986, Training Accuracy= 0.92000\nIter 95000, Minibatch Loss= 0.196957, Training Accuracy= 0.96000\nIter 96000, Minibatch Loss= 0.087106, Training Accuracy= 0.97000\nIter 97000, Minibatch Loss= 0.090576, Training Accuracy= 0.96000\nIter 98000, Minibatch Loss= 0.102957, Training Accuracy= 0.97000\nIter 99000, Minibatch Loss= 0.097008, Training Accuracy= 0.98000\nOptimization Finished!\n('Testing Accuracy:', 0.9765625)\n"
                }
            ], 
            "execution_count": 14
        }, 
        {
            "source": "sess.close()", 
            "cell_type": "code", 
            "metadata": {}, 
            "outputs": [], 
            "execution_count": 15
        }, 
        {
            "source": "Created by <a href=\"https://br.linkedin.com/in/walter-gomes-de-amorim-junior-624726121\">Walter Gomes de Amorim Junior</a> ,  <a href = \"https://linkedin.com/in/saeedaghabozorgi\"> Saeed Aghabozorgi </a></h4>  \n\n", 
            "cell_type": "markdown", 
            "metadata": {
                "collapsed": true
            }
        }, 
        {
            "source": "", 
            "cell_type": "code", 
            "metadata": {}, 
            "outputs": [], 
            "execution_count": null
        }
    ], 
    "metadata": {
        "kernelspec": {
            "display_name": "Python 2 with Spark 1.6 (Unsupported)", 
            "name": "python2", 
            "language": "python"
        }, 
        "widgets": {
            "state": {}, 
            "version": "1.1.2"
        }, 
        "language_info": {
            "mimetype": "text/x-python", 
            "nbconvert_exporter": "python", 
            "version": "2.7.11", 
            "name": "python", 
            "pygments_lexer": "ipython2", 
            "file_extension": ".py", 
            "codemirror_mode": {
                "version": 2, 
                "name": "ipython"
            }
        }, 
        "anaconda-cloud": {}
    }, 
    "nbformat": 4
}