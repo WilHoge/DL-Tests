{
    "nbformat_minor": 1, 
    "cells": [
        {
            "source": "<a href=\"https://www.bigdatauniversity.com\"><img src = \"https://ibm.box.com/shared/static/jvcqp2iy2jlx2b32rmzdt0tx8lvxgzkp.png\" width = 300, align = \"center\"></a>\n\n<h1 align=center><font size = 5>RECURRENT NETWORKS and LSTM IN DEEP LEARNING</font></h1>\n\n\n## Applying Recurrent Neural Networks/LSTM for Language Modelling\nHello and welcome to this part. In this notebook, we will go over the topic of what Language Modelling is and create a Recurrent Neural Network model based on the Long Short-Term Memory unit to train and be benchmarked by the Penn Treebank. By the end of this notebook, you should be able to understand how TensorFlow builds and executes a RNN model for Language Modelling.\n", 
            "cell_type": "markdown", 
            "metadata": {}
        }, 
        {
            "source": "--------", 
            "cell_type": "markdown", 
            "metadata": {}
        }, 
        {
            "source": "## The Objective\nBy now, you should have an understanding of how Recurrent Networks work -- a specialized model to process sequential data by keeping track of the \"state\" or context. In this notebook, we go over a TensorFlow code snippet for creating a model focused on **Language Modelling** -- a very relevant task that is the cornerstone of many different linguistic problems such as **Speech Recognition, Machine Translation and Image Captioning**. For this, we will be using the Penn Treebank, which is an often-used dataset for benchmarking Language Modelling models.\n\n## What exactly is Language Modelling?\nLanguage Modelling, to put it simply, **is the task of assigning probabilities to sequences of words**. This means that, given a context of one or a few words in the language the model was trained on, the model should have a knowledge of what are the most probable words or sequence of words for the sentence. Language Modelling is one of the tasks under Natural Language Processing, and one of the most important.\n\n<img src=https://ibm.box.com/shared/static/1d1i5gub6wljby2vani2vzxp0xsph702.png width=\"768\"/>\n<center>*Example of a sentence being predicted*</center>\n\nIn this example, one can see the predictions for the next word of a sentence, given the context \"This is an\". As you can see, this boils down to a sequential data analysis task -- you are given a word or a sequence of words (the input data), and, given the context (the state), you need to find out what is the next word (the prediction). This kind of analysis is very important for language-related tasks such as **Speech Recognition, Machine Translation, Image Captioning, Text Correction** and many other very relevant problems. \n\n<img src=https://ibm.box.com/shared/static/az39idf9ipfdpc5ugifpgxnydelhyf3i.png width=\"1080\"/>\n<center>*The above example schematized as an RNN in execution*</center>\n\nAs the above image shows, Recurrent Network models fit this problem like a glove. Alongside LSTM and its capacity to maintain the model's state for over one thousand time steps, we have all the tools we need to undertake this problem. The goal for this notebook is to create a model that can reach **low levels of perplexity** on our desired dataset.\n\nFor Language Modelling problems, **perplexity** is the way to gauge efficiency. Perplexity is simply a measure of how well a probabilistic model is able to predict its sample. A higher-level way to explain this would be saying that **low perplexity means a higher degree of trust in the predictions the model makes**. Therefore, the lower perplexity is, the better.\n\n## The Penn Treebank dataset\nHistorically, datasets big enough for Natural Language Processing are hard to come by. This is in part due to the necessity of the sentences to be broken down and tagged with a certain degree of correctness -- or else the models trained on it won't be able to be correct at all. This means that we need a **large amount of data, annotated by or at least corrected by humans**. This is, of course, not an easy task at all.\n\nThe Penn Treebank, or PTB for short, is a dataset maintained by the University of Pennsylvania. It is *huge* -- there are over **four million and eight hundred thousand** annotated words in it, all corrected by humans. It is composed of many different sources, from abstracts of Department of Energy papers to texts from the Library of America. Since it is verifiably correct and of such a huge size, the Penn Treebank has been used time and time again as a benchmark dataset for Language Modelling.\n\nThe dataset is divided in different kinds of annotations, such as Piece-of-Speech, Syntactic and Semantic skeletons. For this example, we will simply use a sample of clean, non-annotated words (with the exception of one tag -- `<unk>`, which is used for rare words such as uncommon proper nouns) for our model. This means that we just want to predict what the next words would be, not what they mean in context or their classes on a given sentence. \n<br/>\n<div class=\"alert alert-block alert-info\" style=\"margin-top: 20px\">\n<center>the percentage of lung cancer deaths among the workers at the west `<unk>` mass. paper factory appears to be the highest for any asbestos workers studied in western industrialized countries he said \n the plant which is owned by `<unk>` & `<unk>` co. was under contract with `<unk>` to make the cigarette filters \n the finding probably will support those who argue that the u.s. should regulate the class of asbestos including `<unk>` more `<unk>` than the common kind of asbestos `<unk>` found in most schools and other buildings dr. `<unk>` said</center>\n</div>\n <center>*Example of text from the dataset we are going to use, `ptb.train`*</center>\n <br/>\n\n", 
            "cell_type": "markdown", 
            "metadata": {}
        }, 
        {
            "source": "<h2>Word Embeddings</h2><br/>\n\nFor better processing, in this example, we will make use of [**word embeddings**]( [https://www.tensorflow.org/tutorials/word2vec/), which are **a way of representing sentence structures or words as n-dimensional vectors (where n is a reasonably high number, such as 200 or 500) of real numbers**. Basically, we will assign each word a randomly-initialized vector, and input those into the network to be processed. After a number of iterations, these vectors are expected to assume values that help the network to correctly predict what it needs to -- in our case, the probable next word in the sentence. This is shown to be very effective in Natural Language Processing tasks, and is a commonplace practice.\n<br/><br/>\n<font size = 4><strong>\n$$Vec(\"Example\") = [0.02, 0.00, 0.00, 0.92, 0.30,...]$$\n</font></strong>\n<br/>\nWord Embedding tends to group up similarly used words *reasonably* together in the vectorial space. For example, if we use T-SNE (a dimensional reduction visualization algorithm) to flatten the dimensions of our vectors into a 2-dimensional space and use the words these vectors represent as their labels, we might see something like this:\n\n<img src=https://ibm.box.com/shared/static/bqhc5dg879gcoabzhxra1w8rkg3od1cu.png width=\"800\"/>\n<center>*T-SNE Mockup with clusters marked for easier visualization*</center>\n\nAs you can see, words that are frequently used together, in place of each other, or in the same places as them tend to be grouped together -- being closer together the higher these correlations are. For example, \"None\" is pretty semantically close to \"Zero\", while a phrase that uses \"Italy\" can probably also fit \"Germany\" in it, with little damage to the sentence structure. A vectorial \"closeness\" for similar words like this is a great indicator of a well-built model.\n\n---\n ", 
            "cell_type": "markdown", 
            "metadata": {}
        }, 
        {
            "source": "We need to import the necessary modules for our code. We need **`numpy` and `tensorflow`**, obviously. Additionally, we can import directly the **`tensorflow.models.rnn.rnn`** model, which includes the function for building RNNs, and **`tensorflow.models.rnn.ptb.reader`** which is the helper module for getting the input data from the dataset we just downloaded.\n\nIf you want to learm more take a look at https://www.tensorflow.org/versions/r0.11/api_docs/python/rnn_cell/", 
            "cell_type": "markdown", 
            "metadata": {}
        }, 
        {
            "source": "from __future__ import absolute_import\nfrom __future__ import division\nfrom __future__ import print_function\n\nimport time\nimport numpy as np\nimport tensorflow as tf", 
            "cell_type": "code", 
            "metadata": {}, 
            "outputs": [], 
            "execution_count": 1
        }, 
        {
            "source": "!wget -q -O ptb.zip https://ibm.box.com/shared/static/z2yvmhbskc45xd2a9a4kkn6hg4g4kj5r.zip\n!unzip -o ptb.zip \n!cp ptb/reader.py .\nimport reader", 
            "cell_type": "code", 
            "metadata": {}, 
            "outputs": [
                {
                    "output_type": "stream", 
                    "name": "stdout", 
                    "text": "Archive:  ptb.zip\r\n  inflating: ptb/reader.py           \r\n"
                }
            ], 
            "execution_count": 6
        }, 
        {
            "source": "## Building the LSTM model for Language Modeling\nNow that we know exactly what we are doing, we can start building our model using TensorFlow. The very first thing we need to do is download and extract the `simple-examples` dataset, which can be done by executing the code cell below.", 
            "cell_type": "markdown", 
            "metadata": {}
        }, 
        {
            "source": "#!wget http://www.fit.vutbr.cz/~imikolov/rnnlm/simple-examples.tgz \n!tar xzf simple-examples.tgz ", 
            "cell_type": "code", 
            "metadata": {}, 
            "outputs": [], 
            "execution_count": 8
        }, 
        {
            "source": "!ls -la simple-examples", 
            "cell_type": "code", 
            "metadata": {}, 
            "outputs": [
                {
                    "output_type": "stream", 
                    "name": "stdout", 
                    "text": "total 0\r\ndrwx------ 15 s292-2479f4c3f28697-e04c173fe4bd users 4096 May  2  2011 .\r\ndrwx------  6 s292-2479f4c3f28697-e04c173fe4bd users 4096 Sep 12  2011 ..\r\ndrwx------  2 s292-2479f4c3f28697-e04c173fe4bd users 4096 May  1  2011 1-train\r\ndrwx------  3 s292-2479f4c3f28697-e04c173fe4bd users 4096 Apr 29  2011 2-nbest-rescore\r\ndrwx------  2 s292-2479f4c3f28697-e04c173fe4bd users 4096 May  1  2011 3-combination\r\ndrwx------  2 s292-2479f4c3f28697-e04c173fe4bd users 4096 May  1  2011 4-data-generation\r\ndrwx------  2 s292-2479f4c3f28697-e04c173fe4bd users 4096 May  1  2011 5-one-iter\r\ndrwx------  2 s292-2479f4c3f28697-e04c173fe4bd users 4096 May  1  2011 6-recovery-during-training\r\ndrwx------  2 s292-2479f4c3f28697-e04c173fe4bd users 4096 May  1  2011 7-dynamic-evaluation\r\ndrwx------  2 s292-2479f4c3f28697-e04c173fe4bd users 4096 May  1  2011 8-direct\r\ndrwx------  2 s292-2479f4c3f28697-e04c173fe4bd users 4096 May  1  2011 9-char-based-lm\r\ndrwx------  2 s292-2479f4c3f28697-e04c173fe4bd users 4096 Sep 12  2011 data\r\ndrwx------  2 s292-2479f4c3f28697-e04c173fe4bd users 4096 May  2  2011 models\r\ndrwx------  2 s292-2479f4c3f28697-e04c173fe4bd users 4096 May  2  2011 rnnlm-0.2b\r\ndrwx------  2 s292-2479f4c3f28697-e04c173fe4bd users 4096 May  2  2011 temp\r\n"
                }
            ], 
            "execution_count": 13
        }, 
        {
            "source": "Additionally, for the sake of making it easy to play around with the model's hyperparameters, we can declare them beforehand. Feel free to change these -- you will see a difference in performance each time you change those!  \n\n", 
            "cell_type": "markdown", 
            "metadata": {}
        }, 
        {
            "source": "#Initial weight scale\ninit_scale = 0.1\n#Initial learning rate\nlearning_rate = 1.0\n#Maximum permissible norm for the gradient (For gradient clipping -- another measure against Exploding Gradients)\nmax_grad_norm = 5\n#The number of layers in our model\nnum_layers = 2\n#The total number of recurrence steps, also known as the number of layers when our RNN is \"unfolded\"\nnum_steps = 20\n#The number of processing units (neurons) in the hidden layers\nhidden_size = 200\n#The maximum number of epochs trained with the initial learning rate\nmax_epoch = 4\n#The total number of epochs in training\nmax_max_epoch = 13\n#The probability for keeping data in the Dropout Layer (This is an optimization, but is outside our scope for this notebook!)\n#At 1, we ignore the Dropout Layer wrapping.\nkeep_prob = 1\n#The decay for the learning rate\ndecay = 0.5\n#The size for each batch of data\nbatch_size = 30\n#The size of our vocabulary\nvocab_size = 10000\n#Training flag to separate training from testing\nis_training = 1\n#Data directory for our dataset\ndata_dir = \"simple-examples/data/\"", 
            "cell_type": "code", 
            "metadata": {}, 
            "outputs": [], 
            "execution_count": 14
        }, 
        {
            "source": "Some clarifications for LSTM architecture based on the argumants:\n\nNetwork structure:\n- In this network, the number of LSTM cells are 2. To give the model more expressive power, we can add multiple layers of LSTMs to process the data. The output of the first layer will become the input of the second and so on.\n- The recurrence steps is 20, that is, when our RNN is \"Unfolded\", the recurrence step is 20.   \n- the structure is like: \n     - 200 input units -> [200x200] Weight -> 200 Hidden units (first layer) -> [200x200] Weight matrix  -> 200 Hidden units (second layer) ->  [200] weight Matrix -> 200 unit output\n\nHidden layer:\n- Each LSTM has 200 hidden units which is equivalant to the dimensianality of the embedding words and output. \n\nInput layer: \n- The network has 200 input units. \n- Suppose each word is represented by an embedding vector of dimensionality e=200. The input layer of each cell will have 200 linear units. These e=200 linear units are connected to each of the h=200 LSTM units in the hidden layer (assuming there is only one hidden layer, though our case has 2 layers).\n- The input shape is [batch_size, num_steps], that is [30x20]. It will turn into [30x20x200] after embedding, and then 20x[30x200]\n\n\n", 
            "cell_type": "markdown", 
            "metadata": {}
        }, 
        {
            "source": "There is a lot to be done and a ton of information to process at the same time, so go over this code slowly. It may seem complex at first, but if you try to ally what you just learned about language modelling to the code you see, you should be able to understand it.\n\nThis code is adapted from the [PTBModel](https://github.com/tensorflow/tensorflow/blob/master/tensorflow/models/rnn/ptb/ptb_word_lm.py) example bundled with the TensorFlow source code.\n\n\n#### Train data\nThe story starts from data: \n- Train data is a list of words, represented by numbers - N=929589 numbers, e.g. [9971, 9972, 9974, 9975,...]\n- We read data as mini-batch of size b=30. Assume the size of each sentence is 20 words (num_steps = 20). Then it will take int(N/b*h)+1=1548 iterations for the learner to go through all sentences once. So, the number of iterators is 1548\n- Each batch data is read from train dataset of size 600, and shape of [30x20]", 
            "cell_type": "markdown", 
            "metadata": {}
        }, 
        {
            "source": "First we start an interactive session:", 
            "cell_type": "markdown", 
            "metadata": {}
        }, 
        {
            "source": "session=tf.InteractiveSession()", 
            "cell_type": "code", 
            "metadata": {}, 
            "outputs": [], 
            "execution_count": 15
        }, 
        {
            "source": "# Reads the data and separates it into training data, validation data and testing data\nraw_data = reader.ptb_raw_data(data_dir)\ntrain_data, valid_data, test_data, _ = raw_data", 
            "cell_type": "code", 
            "metadata": {}, 
            "outputs": [], 
            "execution_count": 16
        }, 
        {
            "source": "Lets just read one mini-batch now and feed our network:", 
            "cell_type": "markdown", 
            "metadata": {
                "collapsed": true
            }
        }, 
        {
            "source": "itera = reader.ptb_iterator(train_data, batch_size, num_steps)\nfirst_touple=itera.next()\nx=first_touple[0]\ny=first_touple[1]", 
            "cell_type": "code", 
            "metadata": {}, 
            "outputs": [], 
            "execution_count": 17
        }, 
        {
            "source": "x.shape", 
            "cell_type": "code", 
            "metadata": {}, 
            "outputs": [
                {
                    "output_type": "execute_result", 
                    "data": {
                        "text/plain": "(30, 20)"
                    }, 
                    "execution_count": 18, 
                    "metadata": {}
                }
            ], 
            "execution_count": 18
        }, 
        {
            "source": "Lets look at 3 sentences of our input x:", 
            "cell_type": "markdown", 
            "metadata": {}
        }, 
        {
            "source": "x[0:3]", 
            "cell_type": "code", 
            "metadata": {}, 
            "outputs": [
                {
                    "output_type": "execute_result", 
                    "data": {
                        "text/plain": "array([[9970, 9971, 9972, 9974, 9975, 9976, 9980, 9981, 9982, 9983, 9984,\n        9986, 9987, 9988, 9989, 9991, 9992, 9993, 9994, 9995],\n       [2654,    6,  334, 2886,    4,    1,  233,  711,  834,   11,  130,\n         123,    7,  514,    2,   63,   10,  514,    8,  605],\n       [   0, 1071,    4,    0,  185,   24,  368,   20,   31, 3109,  954,\n          12,    3,   21,    2, 2915,    2,   12,    3,   21]], dtype=int32)"
                    }, 
                    "execution_count": 19, 
                    "metadata": {}
                }
            ], 
            "execution_count": 19
        }, 
        {
            "source": "size = hidden_size", 
            "cell_type": "code", 
            "metadata": {}, 
            "outputs": [], 
            "execution_count": 20
        }, 
        {
            "source": "we define 2 place holders to feed them with mini-batchs, that is x and y:", 
            "cell_type": "markdown", 
            "metadata": {}
        }, 
        {
            "source": "_input_data = tf.placeholder(tf.int32, [batch_size, num_steps]) #[30#20]\n_targets = tf.placeholder(tf.int32, [batch_size, num_steps]) #[30#20]", 
            "cell_type": "code", 
            "metadata": {}, 
            "outputs": [], 
            "execution_count": 21
        }, 
        {
            "source": "lets defin a dictionary, and use it later to feed the placeholders with our first mini-batch:", 
            "cell_type": "markdown", 
            "metadata": {}
        }, 
        {
            "source": "feed_dict={_input_data:x, _targets:y}", 
            "cell_type": "code", 
            "metadata": {}, 
            "outputs": [], 
            "execution_count": 22
        }, 
        {
            "source": "For example, we can use it to feed _input_data:", 
            "cell_type": "markdown", 
            "metadata": {}
        }, 
        {
            "source": "session.run(_input_data,feed_dict)", 
            "cell_type": "code", 
            "metadata": {}, 
            "outputs": [
                {
                    "output_type": "execute_result", 
                    "data": {
                        "text/plain": "array([[9970, 9971, 9972, 9974, 9975, 9976, 9980, 9981, 9982, 9983, 9984,\n        9986, 9987, 9988, 9989, 9991, 9992, 9993, 9994, 9995],\n       [2654,    6,  334, 2886,    4,    1,  233,  711,  834,   11,  130,\n         123,    7,  514,    2,   63,   10,  514,    8,  605],\n       [   0, 1071,    4,    0,  185,   24,  368,   20,   31, 3109,  954,\n          12,    3,   21,    2, 2915,    2,   12,    3,   21],\n       [   3,   71,    4,   27,  246,   60,   11,  215,    4,    1, 1846,\n           9,    3,   71,  546,    2, 6505,  162,    6,  104],\n       [  93,   25,    6,  261,  681,  251,    0,  278, 3246,   13,  200,\n           1,    8,  105, 3360,    1,    4,    0,  536,    4],\n       [  20,    6,  954,   12,    3,   21,   78,   14,  977,  726,    0,\n          37,   42,   34,    5,  437,  116,  206,  927,    2],\n       [  18,  296,    7,  201,   76,    4,  182,  560, 3836,   17,  974,\n         975,    6,  942,    4,  156,   77, 1570,  288,  644],\n       [  23, 1238,  899,    5,   25,  201,    4,    0,  434,  642,   55,\n         201,    4,    0, 2423,    2,    1,    1,    1,  483],\n       [ 379,  706,    9,  413, 8219,   96,   15,    0, 2185, 1758,    1,\n           1,   37,   13,  834,    5,  852,  222,    7, 1785],\n       [   2,  179,  940,  117,   38,   59,  677,   14,    1,   10, 1016,\n         309,   13, 1077, 6360,   16,   23, 4490,    9,  355],\n       [3572,    4, 3015, 1347,  536,   13,    6, 3949,    5,  438, 9643,\n           2,   64,   87,   32,  358, 3672, 4103, 1082,   11],\n       [  71,  178,    3,    8,    3,    2,    0, 1008,  234,   30, 6400,\n          10,    0,   98,    9,    1,  338,   13,    5,   25],\n       [1473,   88,   19, 2578, 6591,    8,  629,  563,    8,  223,  184,\n         127,   18,    6,  828,    1,    2,    0,  324,  158],\n       [   1,    1,    2,   18,    0, 1844,    4,   73,   39, 2694,    6,\n        1709,    2,    7,    0, 6509, 1116,   27,    1,    1],\n       [1055,    5,   25, 8582,   10,  353,  645,   24,    6,  287,    2,\n        1006,    0, 8861, 2369,   44,    7,    0,    1,  180],\n       [  36,  501,    5,    6, 1969,    0,   98,   89, 2254,    0,  312,\n        1641,    4, 1063,    8,  713,    0,  264,  820,    2],\n       [  32, 2599,  762, 1875,   26, 1402,   45,  516,    2, 2937,   16,\n        3355, 2062,  251,    0,  529,   24, 1625,  122,   18],\n       [ 677,  127,    2,   19,   23, 7800, 3592,   14,   64,   87,   32,\n         350,    0, 3968,    2,   38,   26,  114,   38,   26],\n       [  25,   45,  769,    2,   23, 2634, 1096, 1175,   19,    6,    1,\n         154,   23, 1890,   30,    6,    1,    1,    2,  198],\n       [7736,  391,    5, 5173,  838,    2,  840,    9, 8716,  537, 4132,\n        2915,    9,    1,    1,   10, 1268,  175,   32,  184],\n       [   3,   21,    4,    1,  308,  458,   11,   41,   14, 5718,  102,\n         824,    1,    2,   14,   59,   50,   12,    3,   21],\n       [   8,    1,   22,   73,   10,  863,   11,  898,  653,  270,    8,\n         500,  273, 1559,    2,   14, 3019,    5,  585,   84],\n       [ 483,  762,   87,  108, 1119,    0,    1,   67,    0, 3296,   26,\n         591,  174,  127,    2,  108,   26, 9821,   11,    6],\n       [3885,  582,   81,   17, 1834,    2, 1256,   98,  162,  582,  441,\n         125,   22, 1652,  172,    4,    3,    3,    8,  206],\n       [  44,   23,    1,    0, 1704,    4,    1,    2,   22,  373,   38,\n         275,    1, 8017,    2, 2785, 3659, 4359,   80,  634],\n       [1896,    8,   13, 9468,   17,  752, 4622,    2,   29, 2221,    0,\n         446, 3552,    4,    0, 2495,  431,  134,  284,  152],\n       [  48,    7, 1741,  193,    8,  446,  165,  301, 6521, 5122,   15,\n          12,    3,   21,    4,   10,  161,  783,    8,   79],\n       [  47, 4447, 1431,    4, 6967, 2121,   24,  452,   18,   43,    3,\n          48, 1076,   12,    3,   21,   69,   40,    2, 1323],\n       [  31, 3374,    4, 2108,    1,  134,    8, 6967, 1825, 3306,   14,\n          13, 3581,    5, 2424, 1583, 6495,    5,    6, 1136],\n       [  59, 2070, 2433,   28,  517,   20,   23, 4306,    6,   40,  195,\n           2, 9398,  400, 4908,  673, 1572,  400,    1, 1173]], dtype=int32)"
                    }, 
                    "execution_count": 23, 
                    "metadata": {}
                }
            ], 
            "execution_count": 23
        }, 
        {
            "source": "In this step, we create the stacked LSTM, which is a 2 layer LSTM network:", 
            "cell_type": "markdown", 
            "metadata": {}
        }, 
        {
            "source": "lstm_cell = tf.contrib.rnn.BasicLSTMCell(hidden_size, forget_bias=0.0)\nstacked_lstm = tf.contrib.rnn.MultiRNNCell([lstm_cell] * num_layers)", 
            "cell_type": "code", 
            "metadata": {}, 
            "outputs": [], 
            "execution_count": 24
        }, 
        {
            "source": "Also, we initialize the states of the nework:\n\n#### _initial_state\n\nFor each LCTM, there are 2 state matrics, c_state and m_state.  c_state and m_state represent \"Memory State\" and \"Cell State\". Each hidden layer, has a vector of size 30, which keeps the states. so, for 200 hidden units in each LSTM, we have a matrix of size [30x200]", 
            "cell_type": "markdown", 
            "metadata": {}
        }, 
        {
            "source": "_initial_state = stacked_lstm.zero_state(batch_size, tf.float32)\n_initial_state", 
            "cell_type": "code", 
            "metadata": {}, 
            "outputs": [
                {
                    "output_type": "execute_result", 
                    "data": {
                        "text/plain": "(LSTMStateTuple(c=<tf.Tensor 'MultiRNNCellZeroState/BasicLSTMCellZeroState/zeros:0' shape=(30, 200) dtype=float32>, h=<tf.Tensor 'MultiRNNCellZeroState/BasicLSTMCellZeroState/zeros_1:0' shape=(30, 200) dtype=float32>),\n LSTMStateTuple(c=<tf.Tensor 'MultiRNNCellZeroState/BasicLSTMCellZeroState_1/zeros:0' shape=(30, 200) dtype=float32>, h=<tf.Tensor 'MultiRNNCellZeroState/BasicLSTMCellZeroState_1/zeros_1:0' shape=(30, 200) dtype=float32>))"
                    }, 
                    "execution_count": 25, 
                    "metadata": {}
                }
            ], 
            "execution_count": 25
        }, 
        {
            "source": "lets look at the states, though they are all zero for now:", 
            "cell_type": "markdown", 
            "metadata": {}
        }, 
        {
            "source": "session.run(_initial_state,feed_dict)", 
            "cell_type": "code", 
            "metadata": {}, 
            "outputs": [
                {
                    "output_type": "execute_result", 
                    "data": {
                        "text/plain": "(LSTMStateTuple(c=array([[ 0.,  0.,  0., ...,  0.,  0.,  0.],\n       [ 0.,  0.,  0., ...,  0.,  0.,  0.],\n       [ 0.,  0.,  0., ...,  0.,  0.,  0.],\n       ..., \n       [ 0.,  0.,  0., ...,  0.,  0.,  0.],\n       [ 0.,  0.,  0., ...,  0.,  0.,  0.],\n       [ 0.,  0.,  0., ...,  0.,  0.,  0.]], dtype=float32), h=array([[ 0.,  0.,  0., ...,  0.,  0.,  0.],\n       [ 0.,  0.,  0., ...,  0.,  0.,  0.],\n       [ 0.,  0.,  0., ...,  0.,  0.,  0.],\n       ..., \n       [ 0.,  0.,  0., ...,  0.,  0.,  0.],\n       [ 0.,  0.,  0., ...,  0.,  0.,  0.],\n       [ 0.,  0.,  0., ...,  0.,  0.,  0.]], dtype=float32)),\n LSTMStateTuple(c=array([[ 0.,  0.,  0., ...,  0.,  0.,  0.],\n       [ 0.,  0.,  0., ...,  0.,  0.,  0.],\n       [ 0.,  0.,  0., ...,  0.,  0.,  0.],\n       ..., \n       [ 0.,  0.,  0., ...,  0.,  0.,  0.],\n       [ 0.,  0.,  0., ...,  0.,  0.,  0.],\n       [ 0.,  0.,  0., ...,  0.,  0.,  0.]], dtype=float32), h=array([[ 0.,  0.,  0., ...,  0.,  0.,  0.],\n       [ 0.,  0.,  0., ...,  0.,  0.,  0.],\n       [ 0.,  0.,  0., ...,  0.,  0.,  0.],\n       ..., \n       [ 0.,  0.,  0., ...,  0.,  0.,  0.],\n       [ 0.,  0.,  0., ...,  0.,  0.,  0.],\n       [ 0.,  0.,  0., ...,  0.,  0.,  0.]], dtype=float32)))"
                    }, 
                    "execution_count": 26, 
                    "metadata": {}
                }
            ], 
            "execution_count": 26
        }, 
        {
            "source": "### Embeddings\nWe create the embeddings for our input data. embedding is dictionary of [10000x200] for all 10000 unique words.", 
            "cell_type": "markdown", 
            "metadata": {}
        }, 
        {
            "source": "embedding = tf.get_variable(\"embedding\", [vocab_size, hidden_size])  #[10000x200]", 
            "cell_type": "code", 
            "metadata": {}, 
            "outputs": [], 
            "execution_count": 27
        }, 
        {
            "source": "session.run(tf.global_variables_initializer())\nsession.run(embedding, feed_dict)", 
            "cell_type": "code", 
            "metadata": {}, 
            "outputs": [
                {
                    "output_type": "execute_result", 
                    "data": {
                        "text/plain": "array([[ 0.00658557, -0.00746054, -0.01558347, ..., -0.01756804,\n        -0.01740329, -0.02262763],\n       [-0.01480015, -0.0152589 ,  0.00413023, ..., -0.02268528,\n        -0.01509963,  0.01905471],\n       [ 0.0238497 , -0.01646174, -0.00304233, ..., -0.02378314,\n         0.00577274,  0.0105007 ],\n       ..., \n       [-0.01644904, -0.00983946,  0.01502295, ..., -0.01693629,\n         0.02124291,  0.00772509],\n       [-0.00949086, -0.00131514, -0.00877981, ..., -0.00449678,\n        -0.01710764,  0.00085597],\n       [-0.00075964,  0.0082136 , -0.01484331, ...,  0.01050349,\n        -0.00671852, -0.00084959]], dtype=float32)"
                    }, 
                    "execution_count": 28, 
                    "metadata": {}
                }
            ], 
            "execution_count": 28
        }, 
        {
            "source": "embedding_lookup goes to each row of input_data, and for each word in the row/sentence, finds the correspond vector in embedding.\nIt creates a [30*20*200] matrix, so, the first elemnt of __inputs__ (the first sentence), is a matrix of 20x200, which each row of it is vector representing a word in the sentence.\n", 
            "cell_type": "markdown", 
            "metadata": {}
        }, 
        {
            "source": "# Define where to get the data for our embeddings from\ninputs = tf.nn.embedding_lookup(embedding, _input_data)  #shape=(30, 20, 200) ", 
            "cell_type": "code", 
            "metadata": {}, 
            "outputs": [], 
            "execution_count": 29
        }, 
        {
            "source": "inputs", 
            "cell_type": "code", 
            "metadata": {}, 
            "outputs": [
                {
                    "output_type": "execute_result", 
                    "data": {
                        "text/plain": "<tf.Tensor 'embedding_lookup:0' shape=(30, 20, 200) dtype=float32>"
                    }, 
                    "execution_count": 30, 
                    "metadata": {}
                }
            ], 
            "execution_count": 30
        }, 
        {
            "source": "session.run(inputs[0], feed_dict)", 
            "cell_type": "code", 
            "metadata": {}, 
            "outputs": [
                {
                    "output_type": "execute_result", 
                    "data": {
                        "text/plain": "array([[ 0.00351487,  0.00576815, -0.02139866, ..., -0.00806261,\n        -0.0030012 , -0.00137235],\n       [-0.00034583,  0.0086638 ,  0.02007284, ..., -0.00353181,\n        -0.01718104, -0.00076532],\n       [-0.00050809, -0.01639576, -0.02178029, ..., -0.00276658,\n         0.01488212, -0.023849  ],\n       ..., \n       [-0.00621813,  0.00773796,  0.01446705, ..., -0.0153339 ,\n        -0.00668225, -0.01953252],\n       [ 0.00543002,  0.00119677,  0.00552999, ...,  0.00233331,\n        -0.01749688, -0.00426263],\n       [-0.00178831,  0.02042766, -0.01941115, ..., -0.01754974,\n         0.01990276, -0.02421372]], dtype=float32)"
                    }, 
                    "execution_count": 31, 
                    "metadata": {}
                }
            ], 
            "execution_count": 31
        }, 
        {
            "source": "### Constructing Recurrent Neural Networks\n__tf.nn.dynamicrnn()__ creates a recurrent neural network using __stacked_lstm__ which is an instance of RNNCell. \n\nThe input should be a Tensor of shape: [batch_size, max_time, ...], in our case it would be (30, 20, 200)\n\nThis method, returns a pair (outputs, new_state) where:\n- outputs is a length T list of outputs (one for each input), or a nested tuple of such elements.\n- new_state is the final state\n", 
            "cell_type": "markdown", 
            "metadata": {}
        }, 
        {
            "source": "outputs, new_state =  tf.nn.dynamic_rnn(stacked_lstm, inputs, initial_state=_initial_state)", 
            "cell_type": "code", 
            "metadata": {
                "scrolled": true
            }, 
            "outputs": [], 
            "execution_count": 32
        }, 
        {
            "source": "so, lets look at the outputs. The output of the stackedLSTM comes from 200 hidden_layer, and in each time step(=20), one of them get activated. we use the linear activation to map the 200 hidden layer to a [?x10 matrix]", 
            "cell_type": "markdown", 
            "metadata": {}
        }, 
        {
            "source": "outputs", 
            "cell_type": "code", 
            "metadata": {}, 
            "outputs": [
                {
                    "output_type": "execute_result", 
                    "data": {
                        "text/plain": "<tf.Tensor 'rnn/transpose:0' shape=(30, 20, 200) dtype=float32>"
                    }, 
                    "execution_count": 33, 
                    "metadata": {}
                }
            ], 
            "execution_count": 33
        }, 
        {
            "source": "session.run(tf.global_variables_initializer())\nsession.run(outputs[0], feed_dict)", 
            "cell_type": "code", 
            "metadata": {}, 
            "outputs": [
                {
                    "output_type": "execute_result", 
                    "data": {
                        "text/plain": "array([[ -3.53441355e-05,  -3.60684004e-04,   3.09586612e-04, ...,\n         -3.11837444e-04,   3.61350452e-04,  -2.10765240e-04],\n       [ -1.89811362e-05,  -2.00443013e-04,   4.13568196e-04, ...,\n         -2.67755386e-04,   5.27514669e-04,  -1.47276034e-04],\n       [ -3.53867712e-04,  -4.06588864e-04,   3.98346820e-05, ...,\n         -3.40810366e-04,   4.47299302e-04,  -6.65612519e-04],\n       ..., \n       [ -5.16237575e-04,  -5.58295927e-04,  -1.52579494e-04, ...,\n          1.55189162e-04,  -1.34640431e-04,   7.56160007e-05],\n       [ -2.75827013e-04,  -5.80007327e-04,  -2.01518676e-04, ...,\n          7.03156460e-04,  -1.28376487e-04,   1.42744859e-04],\n       [  4.20022290e-04,  -4.54918278e-04,  -3.61422484e-04, ...,\n          7.63002201e-04,  -4.58251743e-04,   4.10174165e-04]], dtype=float32)"
                    }, 
                    "execution_count": 34, 
                    "metadata": {}
                }
            ], 
            "execution_count": 34
        }, 
        {
            "source": "Lets reshape the output tensor from  [30 x 20 x 200] to [600 x 200]", 
            "cell_type": "markdown", 
            "metadata": {}
        }, 
        {
            "source": "output = tf.reshape(outputs, [-1, size])\noutput", 
            "cell_type": "code", 
            "metadata": {}, 
            "outputs": [
                {
                    "output_type": "execute_result", 
                    "data": {
                        "text/plain": "<tf.Tensor 'Reshape:0' shape=(600, 200) dtype=float32>"
                    }, 
                    "execution_count": 35, 
                    "metadata": {}
                }
            ], 
            "execution_count": 35
        }, 
        {
            "source": "session.run(output[0], feed_dict)", 
            "cell_type": "code", 
            "metadata": {}, 
            "outputs": [
                {
                    "output_type": "execute_result", 
                    "data": {
                        "text/plain": "array([ -3.53441355e-05,  -3.60684004e-04,   3.09586612e-04,\n        -1.92605934e-04,   5.41698246e-04,  -1.64287645e-04,\n        -3.26846202e-05,   8.70878794e-05,  -4.60812968e-04,\n        -6.70412555e-04,   1.75504028e-04,  -1.85773955e-04,\n        -1.84948280e-04,  -1.80960400e-04,  -1.22834434e-04,\n         1.17481068e-04,  -2.48227327e-04,   3.39772087e-04,\n         2.09003163e-04,  -6.96714415e-05,  -4.69498482e-05,\n        -1.46364313e-04,  -2.87248462e-04,   4.25460930e-05,\n         2.13837902e-05,   9.09000300e-05,  -8.96234997e-06,\n        -4.55982881e-05,   8.59878128e-05,   2.66840507e-04,\n         2.90262135e-04,   5.57526364e-04,   2.65559647e-04,\n         1.80848510e-04,  -1.94375651e-04,   8.39726359e-04,\n         1.12341222e-04,  -2.24911637e-04,   1.62222408e-04,\n        -2.53070961e-04,   3.76583659e-04,  -3.27127229e-04,\n         4.49112151e-04,   4.67872625e-04,  -2.64308241e-04,\n        -3.41160194e-04,   1.32851957e-04,  -2.35833242e-04,\n        -1.47577550e-04,  -5.25260548e-05,   3.28026712e-04,\n         3.34022392e-04,  -4.27868799e-04,  -1.26930434e-04,\n         4.18797972e-05,   1.02110804e-04,   6.82299724e-05,\n        -6.97437572e-05,  -3.28429916e-04,  -7.64314609e-05,\n        -8.40487555e-05,   4.16405557e-04,   5.81458560e-04,\n         4.15495997e-05,  -4.05922241e-04,   6.82274404e-05,\n         5.03017873e-06,  -1.46579725e-04,  -4.21776786e-04,\n         4.10973335e-05,   2.87236675e-04,   8.17389155e-05,\n        -8.13686638e-05,   1.18983036e-04,   1.35498864e-04,\n        -3.52541538e-04,   2.27599361e-04,  -6.80142693e-05,\n        -4.11817426e-04,   1.66801212e-04,  -1.35628899e-04,\n        -4.27860825e-04,  -8.93643941e-04,   1.53605681e-04,\n         5.18477987e-04,  -1.02395985e-04,   6.94414557e-05,\n         1.40280667e-04,   3.27243470e-04,  -2.61083391e-04,\n        -2.64410977e-04,  -3.81570455e-04,  -3.05455935e-04,\n        -6.68515277e-05,  -4.53483604e-04,  -4.44919060e-05,\n        -1.93876374e-04,   6.91764726e-05,   1.27006788e-04,\n        -7.84665026e-05,   1.16178431e-04,   4.79403796e-04,\n        -1.68291153e-04,  -6.18313497e-05,  -2.78044696e-04,\n         3.95277282e-04,  -6.26973415e-05,   7.43092154e-04,\n         2.44456693e-04,  -1.50086780e-04,   3.47166148e-04,\n        -2.95225967e-04,  -3.05843190e-04,   2.51891586e-04,\n         2.53700506e-04,  -5.90522832e-05,   6.13584925e-05,\n         2.66312389e-04,   5.64457849e-04,  -5.42110320e-05,\n        -2.81726272e-04,  -6.01530483e-04,   5.24336065e-04,\n         2.50752782e-04,   7.15526839e-05,   1.57276299e-04,\n         2.18793648e-04,   1.49160449e-04,   4.55455331e-04,\n         1.86192527e-04,   2.19915542e-04,   4.29547392e-04,\n        -3.21374566e-04,  -9.36462384e-05,   3.53319861e-04,\n        -4.82933319e-06,   3.82617320e-04,   3.62331280e-04,\n        -4.12579335e-04,  -1.71915963e-04,   3.79328878e-04,\n         4.55502566e-04,   8.43096495e-05,   3.39063234e-04,\n         1.22533194e-04,   7.59523482e-06,   1.52752036e-04,\n        -3.41700761e-05,  -2.20156689e-05,  -1.22332902e-04,\n        -2.26283941e-04,   1.14600145e-04,  -5.38905850e-04,\n        -9.63698549e-05,   6.72391834e-05,   1.42567049e-04,\n         1.33812617e-04,   3.23086861e-04,   5.32553007e-04,\n        -5.16013097e-05,  -2.30992562e-04,  -5.40984147e-05,\n        -3.31893563e-04,   3.97132972e-04,   1.22097874e-04,\n         3.08840390e-05,  -2.48319644e-04,   4.73973894e-04,\n        -7.89677259e-04,  -3.47213208e-04,   2.18335204e-04,\n         3.40761617e-05,  -1.39903525e-04,  -1.89912855e-04,\n         3.39659222e-04,   8.17327382e-05,  -1.20428311e-04,\n         1.97782370e-04,   5.35106868e-04,  -1.41307872e-04,\n         1.41298187e-05,  -2.80973793e-04,   6.20944076e-04,\n        -1.42338846e-04,  -1.54481240e-04,   1.72677377e-04,\n        -2.12236569e-04,  -1.77466340e-04,  -2.05706732e-04,\n         2.16024418e-04,  -3.10417963e-04,  -7.75809094e-05,\n         2.05635253e-04,  -9.46543732e-05,  -8.68740390e-05,\n        -2.88154581e-04,  -5.10323989e-05,  -3.11837444e-04,\n         3.61350452e-04,  -2.10765240e-04], dtype=float32)"
                    }, 
                    "execution_count": 36, 
                    "metadata": {}
                }
            ], 
            "execution_count": 36
        }, 
        {
            "source": "### logistic unit\nNow, we create a logistic unit to return the probability of the output word. That is, mapping the 600\n\nSoftmax = [600 x 200]* [200 x 1000]+ [1 x 1000] -> [600 x 1000]", 
            "cell_type": "markdown", 
            "metadata": {}
        }, 
        {
            "source": "softmax_w = tf.get_variable(\"softmax_w\", [size, vocab_size]) #[200x1000]\nsoftmax_b = tf.get_variable(\"softmax_b\", [vocab_size]) #[1x1000]\nlogits = tf.matmul(output, softmax_w) + softmax_b", 
            "cell_type": "code", 
            "metadata": {}, 
            "outputs": [], 
            "execution_count": 37
        }, 
        {
            "source": "session.run(tf.global_variables_initializer())\nlogi = session.run(logits, feed_dict)\nlogi.shape", 
            "cell_type": "code", 
            "metadata": {}, 
            "outputs": [
                {
                    "output_type": "execute_result", 
                    "data": {
                        "text/plain": "(600, 10000)"
                    }, 
                    "execution_count": 38, 
                    "metadata": {}
                }
            ], 
            "execution_count": 38
        }, 
        {
            "source": "First_word_output_probablity = logi[0]\nFirst_word_output_probablity.shape", 
            "cell_type": "code", 
            "metadata": {}, 
            "outputs": [
                {
                    "output_type": "execute_result", 
                    "data": {
                        "text/plain": "(10000,)"
                    }, 
                    "execution_count": 39, 
                    "metadata": {}
                }
            ], 
            "execution_count": 39
        }, 
        {
            "source": "### Prediction\nThe maximum probablity", 
            "cell_type": "markdown", 
            "metadata": {}
        }, 
        {
            "source": "embedding_array= session.run(embedding, feed_dict)\nnp.argmax(First_word_output_probablity)", 
            "cell_type": "code", 
            "metadata": {}, 
            "outputs": [
                {
                    "output_type": "execute_result", 
                    "data": {
                        "text/plain": "7119"
                    }, 
                    "execution_count": 40, 
                    "metadata": {}
                }
            ], 
            "execution_count": 40
        }, 
        {
            "source": "So, what is the ground truth for the first word of first sentence? ", 
            "cell_type": "markdown", 
            "metadata": {}
        }, 
        {
            "source": "y[0][0]", 
            "cell_type": "code", 
            "metadata": {}, 
            "outputs": [
                {
                    "output_type": "execute_result", 
                    "data": {
                        "text/plain": "9971"
                    }, 
                    "execution_count": 41, 
                    "metadata": {}
                }
            ], 
            "execution_count": 41
        }, 
        {
            "source": "Also, you can get it from target tensor, if you want to find the embedding vector:", 
            "cell_type": "markdown", 
            "metadata": {}
        }, 
        {
            "source": "_targets", 
            "cell_type": "code", 
            "metadata": {}, 
            "outputs": [
                {
                    "output_type": "execute_result", 
                    "data": {
                        "text/plain": "<tf.Tensor 'Placeholder_1:0' shape=(30, 20) dtype=int32>"
                    }, 
                    "execution_count": 42, 
                    "metadata": {}
                }
            ], 
            "execution_count": 42
        }, 
        {
            "source": "It is time to compare logit with target", 
            "cell_type": "markdown", 
            "metadata": {}
        }, 
        {
            "source": "targ = session.run(tf.reshape(_targets, [-1]), feed_dict) ", 
            "cell_type": "code", 
            "metadata": {}, 
            "outputs": [], 
            "execution_count": 43
        }, 
        {
            "source": "first_word_target_code= targ[0]\nfirst_word_target_code", 
            "cell_type": "code", 
            "metadata": {}, 
            "outputs": [
                {
                    "output_type": "execute_result", 
                    "data": {
                        "text/plain": "9971"
                    }, 
                    "execution_count": 44, 
                    "metadata": {}
                }
            ], 
            "execution_count": 44
        }, 
        {
            "source": "first_word_target_vec = session.run( tf.nn.embedding_lookup(embedding, targ[0]))\nfirst_word_target_vec", 
            "cell_type": "code", 
            "metadata": {}, 
            "outputs": [
                {
                    "output_type": "execute_result", 
                    "data": {
                        "text/plain": "array([ -8.44202191e-03,  -9.83881950e-03,   5.37532009e-03,\n         1.69646181e-02,  -1.85532123e-03,  -4.70073335e-03,\n         3.56486998e-03,  -6.28554262e-03,  -5.13124652e-03,\n         2.81438231e-03,  -9.87702981e-04,  -1.92246847e-02,\n         2.20441036e-02,  -1.35415271e-02,   2.21286044e-02,\n        -9.74567514e-03,   8.94512981e-03,  -6.46881945e-03,\n        -1.87812522e-02,  -1.02708125e-02,   1.43344291e-02,\n         2.20497549e-02,  -2.14034375e-02,  -2.30678264e-02,\n        -5.52532822e-03,  -1.97042953e-02,  -1.18869925e-02,\n        -1.06318779e-02,   1.09776706e-02,   1.00646503e-02,\n        -1.24525381e-02,  -1.56708639e-02,  -1.83805544e-02,\n        -1.83762982e-02,   2.00601853e-03,  -1.24142347e-02,\n        -1.28415274e-02,   3.74611095e-03,  -2.20078975e-03,\n         4.28548083e-03,   1.66214481e-02,   4.33571637e-04,\n         1.12674721e-02,   1.46112256e-02,  -5.32698259e-03,\n        -8.70706514e-04,  -2.41646562e-02,  -8.55210237e-03,\n        -1.94186009e-02,   2.98440084e-03,  -7.41041265e-03,\n        -1.97956655e-02,   1.11618042e-02,  -4.47457843e-03,\n        -4.22528945e-03,   1.46565028e-02,  -8.24816525e-05,\n         8.72805342e-03,   1.98772550e-02,  -8.16982239e-03,\n         1.99862383e-02,  -1.11718066e-02,  -1.61579233e-02,\n         4.61840816e-03,  -1.37764411e-02,  -1.82975065e-02,\n        -2.39496231e-02,  -8.75529461e-03,   5.70777804e-03,\n        -6.02769479e-03,  -6.10210001e-04,   1.59934536e-02,\n         5.68029471e-03,  -5.20419143e-03,  -5.05720638e-03,\n         2.40448825e-02,   4.77266684e-03,   1.10841393e-02,\n        -1.88705698e-02,   2.19057873e-03,   4.44333628e-03,\n         4.76633012e-03,  -3.73325683e-03,  -1.47821801e-02,\n         1.84643194e-02,   2.42456794e-02,  -2.41621640e-02,\n        -9.85108409e-03,   1.34528056e-02,  -1.04671223e-02,\n         1.37451179e-02,   7.55247846e-03,  -7.13833980e-03,\n        -2.12223455e-03,  -1.57126412e-02,   1.21906251e-02,\n         1.26137957e-02,   2.18968242e-02,  -1.27019146e-02,\n        -6.50537573e-03,   7.20224157e-03,  -1.24538336e-02,\n         1.77847221e-03,  -1.04573043e-02,   1.99668892e-02,\n         9.84524935e-03,   2.11666785e-02,   1.11054592e-02,\n        -1.28019750e-02,   1.61305852e-02,   2.19966173e-02,\n         6.87886029e-04,  -1.83324330e-03,   6.42614998e-03,\n        -1.72264259e-02,  -1.53136207e-02,  -1.77308619e-02,\n        -5.55512682e-03,   5.28283417e-03,   6.43659383e-03,\n        -8.32451507e-03,   1.32049173e-02,  -1.52305439e-02,\n         1.93824992e-02,   2.51554325e-03,  -3.77981178e-03,\n         1.32323317e-02,  -2.61518732e-03,  -2.47345306e-03,\n        -7.75548816e-03,  -1.27876112e-02,  -9.88853723e-03,\n         2.38285027e-02,  -8.28417763e-03,   1.97306313e-02,\n         2.31495611e-02,  -2.08326411e-02,   6.08992577e-03,\n         1.53541490e-02,   1.84018165e-03,   1.35126449e-02,\n         1.82165578e-03,  -5.91563620e-03,  -2.80684792e-03,\n        -3.87766957e-03,   1.03152804e-02,  -1.74877141e-02,\n         1.20163411e-02,  -1.25826448e-02,   4.54975106e-03,\n         1.56573914e-02,   6.30851649e-03,  -7.06340373e-03,\n        -9.59432963e-03,  -2.41475347e-02,   8.72759148e-03,\n        -1.42439278e-02,  -2.05970220e-02,   9.53161344e-03,\n         3.65889445e-03,  -4.62571159e-04,  -1.41446479e-02,\n         1.79842040e-02,   1.13257207e-03,   1.15226209e-02,\n         1.16147809e-02,   1.68517716e-02,  -1.69729218e-02,\n        -2.18644012e-02,  -9.05666687e-03,   2.95440108e-03,\n         1.35790557e-02,   6.67578541e-03,  -1.77681297e-02,\n        -6.61704689e-03,   1.76614188e-02,  -1.30873816e-02,\n         1.58954486e-02,  -1.66841317e-02,   1.43160634e-02,\n        -3.12911905e-03,  -1.99548006e-02,   1.11192018e-02,\n         3.26840766e-03,  -1.27522452e-02,  -1.73911396e-02,\n        -7.35964812e-03,  -1.97452679e-03,  -8.97987559e-03,\n         1.80975609e-02,   4.10766900e-03,   1.50545985e-02,\n         1.98462494e-02,   1.16955861e-02,  -8.31725076e-04,\n        -6.45418279e-03,   4.05075029e-04,   2.13201903e-03,\n        -1.62305757e-02,   4.12286445e-03], dtype=float32)"
                    }, 
                    "execution_count": 45, 
                    "metadata": {}
                }
            ], 
            "execution_count": 45
        }, 
        {
            "source": "#### Objective function\n\nNow we want to define our objective function. Our objective is to minimize loss function, that is, to minimize the average negative log probability of the target words:\n\nloss=\u22121N\u2211i=1Nln\u2061ptargeti  \nThis function is already implimented and available in TensorFlow through __sequence_loss_by_example__ so we can just use it here. __sequence_loss_by_example__ is weighted cross-entropy loss for a sequence of logits (per example).  \n\nIts arguments:  \n\nlogits: List of 2D Tensors of shape [batch_size x num_decoder_symbols].  \ntargets: List of 1D batch-sized int32 Tensors of the same length as logits.  \nweights: List of 1D batch-sized float-Tensors of the same length as logits.  ", 
            "cell_type": "markdown", 
            "metadata": {}
        }, 
        {
            "source": "loss = tf.contrib.legacy_seq2seq.sequence_loss_by_example([logits], [tf.reshape(_targets, [-1])],[tf.ones([batch_size * num_steps])])", 
            "cell_type": "code", 
            "metadata": {}, 
            "outputs": [], 
            "execution_count": 46
        }, 
        {
            "source": "loss is a 1D batch-sized float Tensor [600x1]: The log-perplexity for each sequence.", 
            "cell_type": "markdown", 
            "metadata": {}
        }, 
        {
            "source": "session.run(loss, feed_dict)", 
            "cell_type": "code", 
            "metadata": {}, 
            "outputs": [
                {
                    "output_type": "execute_result", 
                    "data": {
                        "text/plain": "array([ 9.21371746,  9.22591972,  9.21767521,  9.2217617 ,  9.20413876,\n        9.22737503,  9.21552753,  9.2214365 ,  9.20790482,  9.19637871,\n        9.21021938,  9.22694397,  9.20597744,  9.19367313,  9.21304607,\n        9.22548962,  9.22335052,  9.20340919,  9.21106052,  9.20816612,\n        9.21580315,  9.21748638,  9.21452808,  9.22102928,  9.19408512,\n        9.22201061,  9.21079063,  9.22237492,  9.21879673,  9.20885658,\n        9.20654202,  9.19775105,  9.22753334,  9.19589233,  9.19513321,\n        9.20726395,  9.22784138,  9.22188091,  9.21124268,  9.21965599,\n        9.20163155,  9.22111034,  9.22362041,  9.19892025,  9.20434189,\n        9.19677258,  9.20934296,  9.20324516,  9.22290993,  9.20068264,\n        9.2207613 ,  9.2232542 ,  9.2078886 ,  9.19579887,  9.22387791,\n        9.19566154,  9.22052097,  9.22322083,  9.20802307,  9.22085571,\n        9.21158314,  9.22095013,  9.20591068,  9.19501686,  9.20786476,\n        9.21892262,  9.20016003,  9.22100544,  9.19413471,  9.19382954,\n        9.20390892,  9.22329807,  9.21160507,  9.21188927,  9.19575977,\n        9.20477581,  9.21465111,  9.21565533,  9.21775913,  9.19431114,\n        9.20129395,  9.21578693,  9.19346619,  9.22191429,  9.21539307,\n        9.22343254,  9.20140171,  9.22504139,  9.21532249,  9.20808887,\n        9.19430733,  9.22200394,  9.22123814,  9.19352627,  9.19404697,\n        9.22097397,  9.22354794,  9.19370747,  9.22106743,  9.2081213 ,\n        9.21584702,  9.20068741,  9.22073936,  9.2233429 ,  9.20789337,\n        9.21111679,  9.20760918,  9.21831703,  9.19407463,  9.22367096,\n        9.21068096,  9.21097565,  9.20369434,  9.22050476,  9.20290184,\n        9.22314358,  9.19717789,  9.22132874,  9.19572353,  9.19778538,\n        9.2249651 ,  9.19781494,  9.21285248,  9.21951103,  9.22092152,\n        9.21058083,  9.21855927,  9.22664642,  9.19675064,  9.22434902,\n        9.20756054,  9.21575451,  9.20563316,  9.22107029,  9.19794846,\n        9.20446491,  9.21101093,  9.21987629,  9.22449398,  9.19564915,\n        9.22313309,  9.20187664,  9.22070599,  9.20118809,  9.2127943 ,\n        9.22092533,  9.22362709,  9.19481373,  9.20860767,  9.21136475,\n        9.21294498,  9.22096157,  9.22369862,  9.20308208,  9.19560146,\n        9.19435692,  9.19428825,  9.1941967 ,  9.21806431,  9.1956768 ,\n        9.20563126,  9.20375729,  9.2118578 ,  9.22313309,  9.20019913,\n        9.21004009,  9.22359467,  9.22454453,  9.22192764,  9.19430161,\n        9.19421005,  9.21052742,  9.21542358,  9.222332  ,  9.22033882,\n        9.21224403,  9.19365692,  9.19780064,  9.20913982,  9.22334671,\n        9.20501137,  9.20441151,  9.22551441,  9.22132778,  9.20094585,\n        9.20220184,  9.20777607,  9.19415092,  9.20731544,  9.20200634,\n        9.20678139,  9.21535397,  9.20044804,  9.19703865,  9.22412777,\n        9.20123196,  9.1959219 ,  9.20402431,  9.20005512,  9.19739914,\n        9.22094154,  9.20927715,  9.20700455,  9.19365978,  9.2151413 ,\n        9.21570587,  9.21585655,  9.22065163,  9.21508503,  9.2003231 ,\n        9.19584942,  9.21060467,  9.2202177 ,  9.21885872,  9.1975565 ,\n        9.19519234,  9.19888592,  9.22306156,  9.21905804,  9.20782852,\n        9.21298218,  9.22343445,  9.22192383,  9.22329903,  9.19589138,\n        9.22335815,  9.19808769,  9.20893955,  9.21510792,  9.20965767,\n        9.20725346,  9.22341728,  9.19790077,  9.20388317,  9.19429111,\n        9.20827198,  9.21529102,  9.22055626,  9.20116711,  9.20138264,\n        9.216012  ,  9.19742775,  9.21802616,  9.1957407 ,  9.22202969,\n        9.21872997,  9.22128773,  9.22187996,  9.22346687,  9.20862484,\n        9.20996666,  9.19428539,  9.21582699,  9.19534111,  9.19395161,\n        9.19564438,  9.22351646,  9.22431755,  9.22359562,  9.21896744,\n        9.19415188,  9.19564629,  9.19420338,  9.22354317,  9.21837616,\n        9.22102356,  9.19761181,  9.20228958,  9.20268059,  9.21590328,\n        9.20894909,  9.19590855,  9.197649  ,  9.22327709,  9.19546509,\n        9.22689152,  9.20595932,  9.1940918 ,  9.19408894,  9.19406796,\n        9.22058773,  9.20134544,  9.22014999,  9.207201  ,  9.19619846,\n        9.19861794,  9.20425892,  9.21577358,  9.2087307 ,  9.19584846,\n        9.21972561,  9.22350311,  9.19711018,  9.21613598,  9.22052479,\n        9.19768143,  9.22347832,  9.19415474,  9.21364498,  9.20444965,\n        9.19872475,  9.22050476,  9.21575451,  9.21860504,  9.22353935,\n        9.19778728,  9.21044159,  9.19787502,  9.22349167,  9.2177496 ,\n        9.20866585,  9.22088623,  9.20597076,  9.22191238,  9.1949358 ,\n        9.22358322,  9.19581699,  9.19695759,  9.19569778,  9.19735527,\n        9.19592381,  9.19668961,  9.21892166,  9.21963978,  9.21893883,\n        9.19728565,  9.19454193,  9.19564819,  9.20518589,  9.22395992,\n        9.21343422,  9.20984077,  9.21522522,  9.22332859,  9.20502567,\n        9.2043314 ,  9.21613121,  9.22636509,  9.19425011,  9.21592331,\n        9.20989895,  9.19585228,  9.19727612,  9.20113182,  9.20036507,\n        9.21955299,  9.20761967,  9.21066475,  9.2202301 ,  9.2189455 ,\n        9.2270546 ,  9.22359085,  9.22064495,  9.19540024,  9.22115326,\n        9.21944046,  9.21417427,  9.22136307,  9.21959019,  9.19568729,\n        9.19732666,  9.19398308,  9.19578171,  9.2012949 ,  9.21494293,\n        9.2113409 ,  9.19587231,  9.19734287,  9.21570396,  9.19409561,\n        9.22596455,  9.20136929,  9.22710896,  9.21499729,  9.21569347,\n        9.1941309 ,  9.19409657,  9.19566154,  9.2019062 ,  9.20278645,\n        9.22341633,  9.22061062,  9.21842575,  9.21710491,  9.19589615,\n        9.19439125,  9.20394516,  9.22522831,  9.20844555,  9.20041561,\n        9.22356701,  9.20384789,  9.1941967 ,  9.1941328 ,  9.20728302,\n        9.20608521,  9.19790363,  9.21896839,  9.20856094,  9.21536827,\n        9.20795631,  9.22091579,  9.19421959,  9.20717144,  9.19854641,\n        9.21874619,  9.20084381,  9.20748615,  9.20024967,  9.20278549,\n        9.21547604,  9.19413853,  9.19561958,  9.20766163,  9.20119572,\n        9.21129322,  9.22049904,  9.22328186,  9.20796871,  9.22088528,\n        9.19414043,  9.21454906,  9.19755077,  9.20733738,  9.21215153,\n        9.21875477,  9.21460915,  9.22274876,  9.21266556,  9.22198963,\n        9.21212101,  9.19948292,  9.20556927,  9.19588757,  9.20753288,\n        9.19490242,  9.22036076,  9.19312   ,  9.22479439,  9.20162582,\n        9.1967802 ,  9.22001076,  9.21282101,  9.21175957,  9.22337532,\n        9.19436359,  9.22750187,  9.22357082,  9.20608521,  9.21952248,\n        9.2171545 ,  9.22522736,  9.21013927,  9.19574451,  9.21269417,\n        9.2196455 ,  9.20210648,  9.218894  ,  9.21583843,  9.20535564,\n        9.22010708,  9.22054863,  9.19671345,  9.19545841,  9.19563866,\n        9.19531155,  9.19784164,  9.21471977,  9.22009087,  9.19640923,\n        9.19976425,  9.21457291,  9.21386147,  9.21131897,  9.22089195,\n        9.2233696 ,  9.22321701,  9.22194099,  9.19728756,  9.21583176,\n        9.20119572,  9.19415379,  9.22364426,  9.21010017,  9.22105312,\n        9.19408512,  9.19562912,  9.21461391,  9.2026844 ,  9.22115517,\n        9.19426441,  9.19414806,  9.21483231,  9.19556522,  9.22243786,\n        9.21499729,  9.20440197,  9.20816994,  9.2005024 ,  9.20590591,\n        9.22199154,  9.21534634,  9.21601105,  9.19681072,  9.22432327,\n        9.20407486,  9.1958313 ,  9.20192623,  9.22515488,  9.22355652,\n        9.22084713,  9.21115303,  9.2210474 ,  9.22353745,  9.19638634,\n        9.20783901,  9.20454025,  9.22181034,  9.22594452,  9.21246433,\n        9.19762135,  9.22259426,  9.22514153,  9.22202015,  9.22085381,\n        9.21281719,  9.21962357,  9.21800613,  9.22754192,  9.2100153 ,\n        9.22076893,  9.22332096,  9.20803833,  9.22092247,  9.20734406,\n        9.21982861,  9.20607281,  9.22192383,  9.21508789,  9.20103931,\n        9.22684288,  9.19584084,  9.22092724,  9.20687199,  9.19950771,\n        9.20442104,  9.21931267,  9.19442844,  9.21223545,  9.22331142,\n        9.20651722,  9.21216774,  9.22058773,  9.22320366,  9.20798874,\n        9.22680855,  9.204216  ,  9.1959362 ,  9.20165443,  9.22329998,\n        9.20866489,  9.22102261,  9.22189808,  9.19417   ,  9.20418835,\n        9.22183037,  9.20708179,  9.19595146,  9.21700764,  9.2076683 ,\n        9.21528912,  9.21594429,  9.22056198,  9.19868755,  9.22620869,\n        9.20822048,  9.22070217,  9.21588802,  9.22227478,  9.21762466,\n        9.21400547,  9.19785023,  9.21628094,  9.20689201,  9.20935345,\n        9.20107174,  9.19579601,  9.21583462,  9.20407963,  9.21219158,\n        9.19601154,  9.19552994,  9.21823978,  9.22398567,  9.21768284,\n        9.20482159,  9.21810055,  9.19420815,  9.22735023,  9.19426918], dtype=float32)"
                    }, 
                    "execution_count": 47, 
                    "metadata": {}
                }
            ], 
            "execution_count": 47
        }, 
        {
            "source": "cost = tf.reduce_sum(loss) / batch_size\n\nsession.run(tf.global_variables_initializer())\nsession.run(cost, feed_dict)\n", 
            "cell_type": "code", 
            "metadata": {}, 
            "outputs": [
                {
                    "output_type": "execute_result", 
                    "data": {
                        "text/plain": "184.19008"
                    }, 
                    "execution_count": 48, 
                    "metadata": {}
                }
            ], 
            "execution_count": 48
        }, 
        {
            "source": "Now, lets store the new state as final state ", 
            "cell_type": "markdown", 
            "metadata": {}
        }, 
        {
            "source": "# \nfinal_state = new_state", 
            "cell_type": "code", 
            "metadata": {}, 
            "outputs": [], 
            "execution_count": 49
        }, 
        {
            "source": "### Training\n\nTo do gradient clipping in TensorFlow we have to take the following steps:\n\n1. Define the optimizer.\n2. Extract variables that are trainable.\n3. Calculate the gradients based on the loss function.\n4. Apply the optimizer to the variables / gradients tuple.", 
            "cell_type": "markdown", 
            "metadata": {}
        }, 
        {
            "source": "#### 1. Define Optimizer\n\n__GradientDescentOptimizer__ constructs a new gradient descent optimizer. Later, we use constructed __optimizer__ to compute gradients for a loss and apply gradients to variables.", 
            "cell_type": "markdown", 
            "metadata": {}
        }, 
        {
            "source": "# Create a variable for the learning rate\nlr = tf.Variable(0.0, trainable=False)\n# Create the gradient descent optimizer with our learning rate\noptimizer = tf.train.GradientDescentOptimizer(lr)", 
            "cell_type": "code", 
            "metadata": {}, 
            "outputs": [], 
            "execution_count": 50
        }, 
        {
            "source": "\n#### 2. Trainable Variables", 
            "cell_type": "markdown", 
            "metadata": {}
        }, 
        {
            "source": "Definining a variable, if you passed _trainable=True_, the _Variable()_ constructor automatically adds new variables to the graph collection __GraphKeys.TRAINABLE_VARIABLES__. Now, using _tf.trainable_variables()_ you can get all variables created with __trainable=True__.", 
            "cell_type": "markdown", 
            "metadata": {}
        }, 
        {
            "source": "# Get all TensorFlow variables marked as \"trainable\" (i.e. all of them except _lr, which we just created)\ntvars = tf.trainable_variables()\ntvars", 
            "cell_type": "code", 
            "metadata": {}, 
            "outputs": [
                {
                    "output_type": "execute_result", 
                    "data": {
                        "text/plain": "[<tf.Variable 'embedding:0' shape=(10000, 200) dtype=float32_ref>,\n <tf.Variable 'rnn/multi_rnn_cell/cell_0/basic_lstm_cell/kernel:0' shape=(400, 800) dtype=float32_ref>,\n <tf.Variable 'rnn/multi_rnn_cell/cell_0/basic_lstm_cell/bias:0' shape=(800,) dtype=float32_ref>,\n <tf.Variable 'softmax_w:0' shape=(200, 10000) dtype=float32_ref>,\n <tf.Variable 'softmax_b:0' shape=(10000,) dtype=float32_ref>]"
                    }, 
                    "execution_count": 51, 
                    "metadata": {}
                }
            ], 
            "execution_count": 51
        }, 
        {
            "source": "we can find the name and scope of all variables:", 
            "cell_type": "markdown", 
            "metadata": {}
        }, 
        {
            "source": "tvars=tvars[3:]", 
            "cell_type": "code", 
            "metadata": {}, 
            "outputs": [], 
            "execution_count": 52
        }, 
        {
            "source": "[v.name for v in tvars]", 
            "cell_type": "code", 
            "metadata": {}, 
            "outputs": [
                {
                    "output_type": "execute_result", 
                    "data": {
                        "text/plain": "[u'softmax_w:0', u'softmax_b:0']"
                    }, 
                    "execution_count": 53, 
                    "metadata": {}
                }
            ], 
            "execution_count": 53
        }, 
        {
            "source": "#### 3. Calculate the gradients based on the loss function", 
            "cell_type": "markdown", 
            "metadata": {}
        }, 
        {
            "source": "cost", 
            "cell_type": "code", 
            "metadata": {}, 
            "outputs": [
                {
                    "output_type": "execute_result", 
                    "data": {
                        "text/plain": "<tf.Tensor 'truediv:0' shape=() dtype=float32>"
                    }, 
                    "execution_count": 54, 
                    "metadata": {}
                }
            ], 
            "execution_count": 54
        }, 
        {
            "source": "tvars", 
            "cell_type": "code", 
            "metadata": {}, 
            "outputs": [
                {
                    "output_type": "execute_result", 
                    "data": {
                        "text/plain": "[<tf.Variable 'softmax_w:0' shape=(200, 10000) dtype=float32_ref>,\n <tf.Variable 'softmax_b:0' shape=(10000,) dtype=float32_ref>]"
                    }, 
                    "execution_count": 55, 
                    "metadata": {}
                }
            ], 
            "execution_count": 55
        }, 
        {
            "source": "#### Gradient:\nThe gradient of a function (line) is the slope of the line, or the rate of change of a function. It's a vector (a direction to move) that points in the direction of greatest increase of the function, and calculated by __derivative__ operation.\n\nFirst lets recall the gradient function using an toy example:\n$$ z=\\left(2x^2+3xy\\right)$$", 
            "cell_type": "markdown", 
            "metadata": {}
        }, 
        {
            "source": "var_x = tf.placeholder(tf.float32)\nvar_y = tf.placeholder(tf.float32) \nfunc_test = 2.0*var_x*var_x + 3.0*var_x*var_y\nsession.run(tf.global_variables_initializer())\nfeed={var_x:1.0,var_y:2.0}\nsession.run(func_test, feed)\n", 
            "cell_type": "code", 
            "metadata": {}, 
            "outputs": [
                {
                    "output_type": "execute_result", 
                    "data": {
                        "text/plain": "8.0"
                    }, 
                    "execution_count": 56, 
                    "metadata": {}
                }
            ], 
            "execution_count": 56
        }, 
        {
            "source": "The __tf.gradients()__ function allows you to compute the symbolic gradient of one tensor with respect to one or more other tensors\u2014including variables. __tf.gradients(func,xs)__ constructs symbolic partial derivatives of sum of __func__ w.r.t. _x_ in __xs__. \n\nNow, lets look at the derivitive w.r.t. __var_x__:\n$$ \\frac{\\partial \\:}{\\partial \\:x}\\left(2x^2+3xy\\right)=4x+3y $$\n", 
            "cell_type": "markdown", 
            "metadata": {}
        }, 
        {
            "source": "var_grad = tf.gradients(func_test, [var_x])\nsession.run(var_grad,feed)", 
            "cell_type": "code", 
            "metadata": {}, 
            "outputs": [
                {
                    "output_type": "execute_result", 
                    "data": {
                        "text/plain": "[10.0]"
                    }, 
                    "execution_count": 57, 
                    "metadata": {}
                }
            ], 
            "execution_count": 57
        }, 
        {
            "source": "the derivitive w.r.t. __var_y__:\n$$ \\frac{\\partial \\:}{\\partial \\:x}\\left(2x^2+3xy\\right)=3x $$", 
            "cell_type": "markdown", 
            "metadata": {}
        }, 
        {
            "source": "var_grad = tf.gradients(func_test, [var_y])\nsession.run(var_grad,feed)", 
            "cell_type": "code", 
            "metadata": {}, 
            "outputs": [
                {
                    "output_type": "execute_result", 
                    "data": {
                        "text/plain": "[3.0]"
                    }, 
                    "execution_count": 58, 
                    "metadata": {}
                }
            ], 
            "execution_count": 58
        }, 
        {
            "source": "Now, we can look at gradients w.r.t all variables:", 
            "cell_type": "markdown", 
            "metadata": {}
        }, 
        {
            "source": "tf.gradients(cost, tvars)", 
            "cell_type": "code", 
            "metadata": {}, 
            "outputs": [
                {
                    "output_type": "execute_result", 
                    "data": {
                        "text/plain": "[<tf.Tensor 'gradients_2/MatMul_grad/MatMul_1:0' shape=(200, 10000) dtype=float32>,\n <tf.Tensor 'gradients_2/add_grad/Reshape_1:0' shape=(10000,) dtype=float32>]"
                    }, 
                    "execution_count": 59, 
                    "metadata": {}
                }
            ], 
            "execution_count": 59
        }, 
        {
            "source": "grad_t_list = tf.gradients(cost, tvars)\n#sess.run(grad_t_list,feed_dict)", 
            "cell_type": "code", 
            "metadata": {
                "scrolled": true
            }, 
            "outputs": [], 
            "execution_count": 60
        }, 
        {
            "source": "\n\n\nnow, we have a list of tensors, t-list. We can use it to find clipped tensors. __clip_by_global_norm__ clips values of multiple tensors by the ratio of the sum of their norms.\n\n__clip_by_global_norm__ get _t-list_ as input and returns 2 things:\n - a list of clipped tensors, so called _list_clipped_ \n - the global norm (global_norm) of all tensors in t_list", 
            "cell_type": "markdown", 
            "metadata": {}
        }, 
        {
            "source": "max_grad_norm", 
            "cell_type": "code", 
            "metadata": {}, 
            "outputs": [
                {
                    "output_type": "execute_result", 
                    "data": {
                        "text/plain": "5"
                    }, 
                    "execution_count": 61, 
                    "metadata": {}
                }
            ], 
            "execution_count": 61
        }, 
        {
            "source": "# Define the gradient clipping threshold\ngrads, _ = tf.clip_by_global_norm(grad_t_list, max_grad_norm)\ngrads", 
            "cell_type": "code", 
            "metadata": {}, 
            "outputs": [
                {
                    "output_type": "execute_result", 
                    "data": {
                        "text/plain": "[<tf.Tensor 'clip_by_global_norm/clip_by_global_norm/_0:0' shape=(200, 10000) dtype=float32>,\n <tf.Tensor 'clip_by_global_norm/clip_by_global_norm/_1:0' shape=(10000,) dtype=float32>]"
                    }, 
                    "execution_count": 62, 
                    "metadata": {}
                }
            ], 
            "execution_count": 62
        }, 
        {
            "source": "session.run(grads,feed_dict)", 
            "cell_type": "code", 
            "metadata": {}, 
            "outputs": [
                {
                    "output_type": "execute_result", 
                    "data": {
                        "text/plain": "[array([[ -5.32067425e-05,  -4.11615765e-05,  -1.54041234e-04, ...,\n           2.75931484e-07,   2.79710662e-07,   2.76332742e-07],\n        [ -9.73969509e-05,  -1.41692304e-04,  -2.95032187e-05, ...,\n           1.35804925e-07,   1.37632185e-07,   1.35999983e-07],\n        [ -6.56010307e-05,  -6.06884932e-05,   2.36392698e-05, ...,\n           1.51910243e-07,   1.53954304e-07,   1.52119213e-07],\n        ..., \n        [ -5.91689968e-05,  -4.30904656e-05,   5.76448147e-05, ...,\n          -8.04374665e-08,  -8.14852044e-08,  -8.05381575e-08],\n        [ -6.08416012e-05,   4.55570203e-04,   5.47080417e-05, ...,\n          -2.40812568e-07,  -2.44106872e-07,  -2.41203395e-07],\n        [  2.72142825e-06,   8.05638774e-05,   9.68961613e-05, ...,\n          -1.50046645e-07,  -1.52137360e-07,  -1.50304629e-07]], dtype=float32),\n array([-0.79798108, -1.03136408, -1.03133321, ...,  0.00200612,\n         0.00203345,  0.00200912], dtype=float32)]"
                    }, 
                    "execution_count": 63, 
                    "metadata": {}
                }
            ], 
            "execution_count": 63
        }, 
        {
            "source": "#### 4. Apply the optimizer to the variables / gradients tuple.", 
            "cell_type": "markdown", 
            "metadata": {}
        }, 
        {
            "source": "# Create the training TensorFlow Operation through our optimizer\ntrain_op = optimizer.apply_gradients(zip(grads, tvars))", 
            "cell_type": "code", 
            "metadata": {}, 
            "outputs": [], 
            "execution_count": 64
        }, 
        {
            "source": "session.run(tf.global_variables_initializer())\nsession.run(train_op,feed_dict)", 
            "cell_type": "code", 
            "metadata": {}, 
            "outputs": [], 
            "execution_count": 65
        }, 
        {
            "source": "We learned how the model is build step by step. Noe, let's then create a Class that represents our model. This class needs a few things:\n- We have to create the model in accordance with our defined hyperparameters\n- We have to create the placeholders for our input data and expected outputs (the real data)\n- We have to create the LSTM cell structure and connect them with our RNN structure\n- We have to create the word embeddings and point them to the input data\n- We have to create the input structure for our RNN\n- We have to instanciate our RNN model and retrieve the variable in which we should expect our outputs to appear\n- We need to create a logistic structure to return the probability of our words\n- We need to create the loss and cost functions for our optimizer to work, and then create the optimizer\n- And finally, we need to create a training operation that can be run to actually train our model\n", 
            "cell_type": "markdown", 
            "metadata": {}
        }, 
        {
            "source": "class PTBModel(object):\n\n    def __init__(self, is_training):\n        ######################################\n        # Setting parameters for ease of use #\n        ######################################\n        self.batch_size = batch_size\n        self.num_steps = num_steps\n        size = hidden_size\n        self.vocab_size = vocab_size\n        \n        ###############################################################################\n        # Creating placeholders for our input data and expected outputs (target data) #\n        ###############################################################################\n        self._input_data = tf.placeholder(tf.int32, [batch_size, num_steps]) #[30#20]\n        self._targets = tf.placeholder(tf.int32, [batch_size, num_steps]) #[30#20]\n\n        ##########################################################################\n        # Creating the LSTM cell structure and connect it with the RNN structure #\n        ##########################################################################\n        # Create the LSTM unit. \n        # This creates only the structure for the LSTM and has to be associated with a RNN unit still.\n        # The argument n_hidden(size=200) of BasicLSTMCell is size of hidden layer, that is, the number of hidden units of the LSTM (inside A).\n        # Size is the same as the size of our hidden layer, and no bias is added to the Forget Gate. \n        # LSTM cell processes one word at a time and computes probabilities of the possible continuations of the sentence.\n        lstm_cell = tf.contrib.rnn.BasicLSTMCell(size, forget_bias=0.0)\n        \n        # Unless you changed keep_prob, this won't actually execute -- this is a dropout wrapper for our LSTM unit\n        # This is an optimization of the LSTM output, but is not needed at all\n        if is_training and keep_prob < 1:\n            lstm_cell = tf.contrib.rnn.DropoutWrapper(lstm_cell, output_keep_prob=keep_prob)\n        \n        # By taking in the LSTM cells as parameters, the MultiRNNCell function junctions the LSTM units to the RNN units.\n        # RNN cell composed sequentially of multiple simple cells.\n        stacked_lstm = tf.contrib.rnn.MultiRNNCell([lstm_cell] * num_layers)\n\n        # Define the initial state, i.e., the model state for the very first data point\n        # It initialize the state of the LSTM memory. The memory state of the network is initialized with a vector of zeros and gets updated after reading each word.\n        self._initial_state = stacked_lstm.zero_state(batch_size, tf.float32)\n\n        ####################################################################\n        # Creating the word embeddings and pointing them to the input data #\n        ####################################################################\n        with tf.device(\"/cpu:0\"):\n            # Create the embeddings for our input data. Size is hidden size.\n            embedding = tf.get_variable(\"embedding\", [vocab_size, size])  #[10000x200]\n            # Define where to get the data for our embeddings from\n            inputs = tf.nn.embedding_lookup(embedding, self._input_data)\n\n        # Unless you changed keep_prob, this won't actually execute -- this is a dropout addition for our inputs\n        # This is an optimization of the input processing and is not needed at all\n        if is_training and keep_prob < 1:\n            inputs = tf.nn.dropout(inputs, keep_prob)\n\n        ############################################\n        # Creating the input structure for our RNN #\n        ############################################\n        # Input structure is 20x[30x200]\n        # Considering each word is represended by a 200 dimentional vector, and we have 30 batchs, we create 30 word-vectors of size [30xx2000]\n        #inputs = [tf.squeeze(input_, [1]) for input_ in tf.split(1, num_steps, inputs)]\n        # The input structure is fed from the embeddings, which are filled in by the input data\n        # Feeding a batch of b sentences to a RNN:\n        # In step 1,  first word of each of the b sentences (in a batch) is input in parallel.  \n        # In step 2,  second word of each of the b sentences is input in parallel. \n        # The parallelism is only for efficiency.  \n        # Each sentence in a batch is handled in parallel, but the network sees one word of a sentence at a time and does the computations accordingly. \n        # All the computations involving the words of all sentences in a batch at a given time step are done in parallel. \n\n        ####################################################################################################\n        # Instanciating our RNN model and retrieving the structure for returning the outputs and the state #\n        ####################################################################################################\n        \n        outputs, state = tf.nn.dynamic_rnn(stacked_lstm, inputs, initial_state=self._initial_state)\n\n        #########################################################################\n        # Creating a logistic unit to return the probability of the output word #\n        #########################################################################\n        output = tf.reshape(outputs, [-1, size])\n        softmax_w = tf.get_variable(\"softmax_w\", [size, vocab_size]) #[200x1000]\n        softmax_b = tf.get_variable(\"softmax_b\", [vocab_size]) #[1x1000]\n        logits = tf.matmul(output, softmax_w) + softmax_b\n\n        #########################################################################\n        # Defining the loss and cost functions for the model's learning to work #\n        #########################################################################\n        loss = tf.contrib.legacy_seq2seq.sequence_loss_by_example([logits], [tf.reshape(self._targets, [-1])],\n                                                      [tf.ones([batch_size * num_steps])])\n        self._cost = cost = tf.reduce_sum(loss) / batch_size\n\n        # Store the final state\n        self._final_state = state\n\n        #Everything after this point is relevant only for training\n        if not is_training:\n            return\n\n        #################################################\n        # Creating the Training Operation for our Model #\n        #################################################\n        # Create a variable for the learning rate\n        self._lr = tf.Variable(0.0, trainable=False)\n        # Get all TensorFlow variables marked as \"trainable\" (i.e. all of them except _lr, which we just created)\n        tvars = tf.trainable_variables()\n        # Define the gradient clipping threshold\n        grads, _ = tf.clip_by_global_norm(tf.gradients(cost, tvars), max_grad_norm)\n        # Create the gradient descent optimizer with our learning rate\n        optimizer = tf.train.GradientDescentOptimizer(self.lr)\n        # Create the training TensorFlow Operation through our optimizer\n        self._train_op = optimizer.apply_gradients(zip(grads, tvars))\n\n    # Helper functions for our LSTM RNN class\n\n    # Assign the learning rate for this model\n    def assign_lr(self, session, lr_value):\n        session.run(tf.assign(self.lr, lr_value))\n\n    # Returns the input data for this model at a point in time\n    @property\n    def input_data(self):\n        return self._input_data\n\n    # Returns the targets for this model at a point in time\n    @property\n    def targets(self):\n        return self._targets\n\n    # Returns the initial state for this model\n    @property\n    def initial_state(self):\n        return self._initial_state\n\n    # Returns the defined Cost\n    @property\n    def cost(self):\n        return self._cost\n\n    # Returns the final state for this model\n    @property\n    def final_state(self):\n        return self._final_state\n\n    # Returns the current learning rate for this model\n    @property\n    def lr(self):\n        return self._lr\n\n    # Returns the training operation defined for this model\n    @property\n    def train_op(self):\n        return self._train_op", 
            "cell_type": "code", 
            "metadata": {}, 
            "outputs": [], 
            "execution_count": 66
        }, 
        {
            "source": "With that, the actual structure of our Recurrent Neural Network with Long Short-Term Memory is finished. What remains for us to do is to actually create the methods to run through time -- that is, the `run_epoch` method to be run at each epoch and a `main` script which ties all of this together.\n\nWhat our `run_epoch` method should do is take our input data and feed it to the relevant operations. This will return at the very least the current result for the cost function.", 
            "cell_type": "markdown", 
            "metadata": {}
        }, 
        {
            "source": "##########################################################################################################################\n# run_epoch takes as parameters the current session, the model instance, the data to be fed, and the operation to be run #\n##########################################################################################################################\ndef run_epoch(session, m, data, eval_op, verbose=False):\n\n    #Define the epoch size based on the length of the data, batch size and the number of steps\n    epoch_size = ((len(data) // m.batch_size) - 1) // m.num_steps\n    start_time = time.time()\n    costs = 0.0\n    iters = 0\n    #state = m.initial_state.eval()\n    #m.initial_state = tf.convert_to_tensor(m.initial_state) \n    #state = m.initial_state.eval()\n    state = session.run(m.initial_state)\n    \n    #For each step and data point\n    for step, (x, y) in enumerate(reader.ptb_iterator(data, m.batch_size, m.num_steps)):\n \n        #Evaluate and return cost, state by running cost, final_state and the function passed as parameter\n        cost, state, _ = session.run([m.cost, m.final_state, eval_op],\n                                     {m.input_data: x,\n                                      m.targets: y,\n                                      m.initial_state: state})\n        \n        #Add returned cost to costs (which keeps track of the total costs for this epoch)\n        costs += cost\n        \n        #Add number of steps to iteration counter\n        iters += m.num_steps\n\n        if verbose and step % (epoch_size // 10) == 10:\n            print(\"%.3f perplexity: %.3f speed: %.0f wps\" % (step * 1.0 / epoch_size, np.exp(costs / iters),\n              iters * m.batch_size / (time.time() - start_time)))\n\n    # Returns the Perplexity rating for us to keep track of how the model is evolving\n    return np.exp(costs / iters)\n", 
            "cell_type": "code", 
            "metadata": {}, 
            "outputs": [], 
            "execution_count": 67
        }, 
        {
            "source": "Now, we create the `main` method to tie everything together. The code here reads the data from the directory, using the `reader` helper module, and then trains and evaluates the model on both a testing and a validating subset of data.", 
            "cell_type": "markdown", 
            "metadata": {}
        }, 
        {
            "source": "# Reads the data and separates it into training data, validation data and testing data\nraw_data = reader.ptb_raw_data(data_dir)\ntrain_data, valid_data, test_data, _ = raw_data", 
            "cell_type": "code", 
            "metadata": {}, 
            "outputs": [], 
            "execution_count": 68
        }, 
        {
            "source": "#Initializes the Execution Graph and the Session\nwith tf.Graph().as_default(), tf.Session() as session:\n    initializer = tf.random_uniform_initializer(-init_scale,init_scale)\n    \n    # Instantiates the model for training\n    # tf.variable_scope add a prefix to the variables created with tf.get_variable\n    with tf.variable_scope(\"model\", reuse=None, initializer=initializer):\n        m = PTBModel(is_training=True)\n        \n    # Reuses the trained parameters for the validation and testing models\n    # They are different instances but use the same variables for weights and biases, they just don't change when data is input\n    with tf.variable_scope(\"model\", reuse=True, initializer=initializer):\n        mvalid = PTBModel(is_training=False)\n        mtest = PTBModel(is_training=False)\n\n    #Initialize all variables\n    tf.global_variables_initializer().run()\n\n    for i in range(max_max_epoch):\n        # Define the decay for this epoch\n        lr_decay = decay ** max(i - max_epoch, 0.0)\n        \n        # Set the decayed learning rate as the learning rate for this epoch\n        m.assign_lr(session, learning_rate * lr_decay)\n\n        print(\"Epoch %d : Learning rate: %.3f\" % (i + 1, session.run(m.lr)))\n        \n        # Run the loop for this epoch in the training model\n        train_perplexity = run_epoch(session, m, train_data, m.train_op,\n                                   verbose=True)\n        print(\"Epoch %d : Train Perplexity: %.3f\" % (i + 1, train_perplexity))\n        \n        # Run the loop for this epoch in the validation model\n        valid_perplexity = run_epoch(session, mvalid, valid_data, tf.no_op())\n        print(\"Epoch %d : Valid Perplexity: %.3f\" % (i + 1, valid_perplexity))\n    \n    # Run the loop in the testing model to see how effective was our training\n    test_perplexity = run_epoch(session, mtest, test_data, tf.no_op())\n    \n    print(\"Test Perplexity: %.3f\" % test_perplexity)", 
            "cell_type": "code", 
            "metadata": {}, 
            "outputs": [
                {
                    "output_type": "stream", 
                    "name": "stdout", 
                    "text": "Epoch 1 : Learning rate: 1.000\n0.006 perplexity: 7104.474 speed: 1303 wps\n0.106 perplexity: 1075.463 speed: 1293 wps\n0.205 perplexity: 818.889 speed: 1299 wps\n0.305 perplexity: 666.225 speed: 1300 wps\n0.404 perplexity: 558.546 speed: 1303 wps\n0.504 perplexity: 491.648 speed: 1304 wps\n0.603 perplexity: 441.989 speed: 1305 wps\n0.702 perplexity: 405.494 speed: 1307 wps\n0.802 perplexity: 377.640 speed: 1308 wps\n0.901 perplexity: 351.974 speed: 1309 wps\nEpoch 1 : Train Perplexity: 331.753\nEpoch 1 : Valid Perplexity: 200.386\nEpoch 2 : Learning rate: 1.000\n0.006 perplexity: 222.122 speed: 1277 wps\n0.106 perplexity: 197.116 speed: 1202 wps\n0.205 perplexity: 188.989 speed: 1201 wps\n0.305 perplexity: 181.183 speed: 1191 wps\n"
                }, 
                {
                    "output_type": "error", 
                    "evalue": "", 
                    "traceback": [
                        "\u001b[0;31m\u001b[0m", 
                        "\u001b[0;31mKeyboardInterrupt\u001b[0mTraceback (most recent call last)", 
                        "\u001b[0;32m<ipython-input-69-c79cec2c6a88>\u001b[0m in \u001b[0;36m<module>\u001b[0;34m()\u001b[0m\n\u001b[1;32m     28\u001b[0m         \u001b[0;31m# Run the loop for this epoch in the training model\u001b[0m\u001b[0;34m\u001b[0m\u001b[0;34m\u001b[0m\u001b[0m\n\u001b[1;32m     29\u001b[0m         train_perplexity = run_epoch(session, m, train_data, m.train_op,\n\u001b[0;32m---> 30\u001b[0;31m                                    verbose=True)\n\u001b[0m\u001b[1;32m     31\u001b[0m         \u001b[0;32mprint\u001b[0m\u001b[0;34m(\u001b[0m\u001b[0;34m\"Epoch %d : Train Perplexity: %.3f\"\u001b[0m \u001b[0;34m%\u001b[0m \u001b[0;34m(\u001b[0m\u001b[0mi\u001b[0m \u001b[0;34m+\u001b[0m \u001b[0;36m1\u001b[0m\u001b[0;34m,\u001b[0m \u001b[0mtrain_perplexity\u001b[0m\u001b[0;34m)\u001b[0m\u001b[0;34m)\u001b[0m\u001b[0;34m\u001b[0m\u001b[0m\n\u001b[1;32m     32\u001b[0m \u001b[0;34m\u001b[0m\u001b[0m\n", 
                        "\u001b[0;32m<ipython-input-67-ecc939544b61>\u001b[0m in \u001b[0;36mrun_epoch\u001b[0;34m(session, m, data, eval_op, verbose)\u001b[0m\n\u001b[1;32m     21\u001b[0m                                      {m.input_data: x,\n\u001b[1;32m     22\u001b[0m                                       \u001b[0mm\u001b[0m\u001b[0;34m.\u001b[0m\u001b[0mtargets\u001b[0m\u001b[0;34m:\u001b[0m \u001b[0my\u001b[0m\u001b[0;34m,\u001b[0m\u001b[0;34m\u001b[0m\u001b[0m\n\u001b[0;32m---> 23\u001b[0;31m                                       m.initial_state: state})\n\u001b[0m\u001b[1;32m     24\u001b[0m \u001b[0;34m\u001b[0m\u001b[0m\n\u001b[1;32m     25\u001b[0m         \u001b[0;31m#Add returned cost to costs (which keeps track of the total costs for this epoch)\u001b[0m\u001b[0;34m\u001b[0m\u001b[0;34m\u001b[0m\u001b[0m\n", 
                        "\u001b[0;32m/usr/local/src/bluemix_jupyter_bundle.v85/notebook/lib/python2.7/site-packages/tensorflow/python/client/session.pyc\u001b[0m in \u001b[0;36mrun\u001b[0;34m(self, fetches, feed_dict, options, run_metadata)\u001b[0m\n\u001b[1;32m    787\u001b[0m     \u001b[0;32mtry\u001b[0m\u001b[0;34m:\u001b[0m\u001b[0;34m\u001b[0m\u001b[0m\n\u001b[1;32m    788\u001b[0m       result = self._run(None, fetches, feed_dict, options_ptr,\n\u001b[0;32m--> 789\u001b[0;31m                          run_metadata_ptr)\n\u001b[0m\u001b[1;32m    790\u001b[0m       \u001b[0;32mif\u001b[0m \u001b[0mrun_metadata\u001b[0m\u001b[0;34m:\u001b[0m\u001b[0;34m\u001b[0m\u001b[0m\n\u001b[1;32m    791\u001b[0m         \u001b[0mproto_data\u001b[0m \u001b[0;34m=\u001b[0m \u001b[0mtf_session\u001b[0m\u001b[0;34m.\u001b[0m\u001b[0mTF_GetBuffer\u001b[0m\u001b[0;34m(\u001b[0m\u001b[0mrun_metadata_ptr\u001b[0m\u001b[0;34m)\u001b[0m\u001b[0;34m\u001b[0m\u001b[0m\n", 
                        "\u001b[0;32m/usr/local/src/bluemix_jupyter_bundle.v85/notebook/lib/python2.7/site-packages/tensorflow/python/client/session.pyc\u001b[0m in \u001b[0;36m_run\u001b[0;34m(self, handle, fetches, feed_dict, options, run_metadata)\u001b[0m\n\u001b[1;32m    995\u001b[0m     \u001b[0;32mif\u001b[0m \u001b[0mfinal_fetches\u001b[0m \u001b[0;32mor\u001b[0m \u001b[0mfinal_targets\u001b[0m\u001b[0;34m:\u001b[0m\u001b[0;34m\u001b[0m\u001b[0m\n\u001b[1;32m    996\u001b[0m       results = self._do_run(handle, final_targets, final_fetches,\n\u001b[0;32m--> 997\u001b[0;31m                              feed_dict_string, options, run_metadata)\n\u001b[0m\u001b[1;32m    998\u001b[0m     \u001b[0;32melse\u001b[0m\u001b[0;34m:\u001b[0m\u001b[0;34m\u001b[0m\u001b[0m\n\u001b[1;32m    999\u001b[0m       \u001b[0mresults\u001b[0m \u001b[0;34m=\u001b[0m \u001b[0;34m[\u001b[0m\u001b[0;34m]\u001b[0m\u001b[0;34m\u001b[0m\u001b[0m\n", 
                        "\u001b[0;32m/usr/local/src/bluemix_jupyter_bundle.v85/notebook/lib/python2.7/site-packages/tensorflow/python/client/session.pyc\u001b[0m in \u001b[0;36m_do_run\u001b[0;34m(self, handle, target_list, fetch_list, feed_dict, options, run_metadata)\u001b[0m\n\u001b[1;32m   1130\u001b[0m     \u001b[0;32mif\u001b[0m \u001b[0mhandle\u001b[0m \u001b[0;32mis\u001b[0m \u001b[0mNone\u001b[0m\u001b[0;34m:\u001b[0m\u001b[0;34m\u001b[0m\u001b[0m\n\u001b[1;32m   1131\u001b[0m       return self._do_call(_run_fn, self._session, feed_dict, fetch_list,\n\u001b[0;32m-> 1132\u001b[0;31m                            target_list, options, run_metadata)\n\u001b[0m\u001b[1;32m   1133\u001b[0m     \u001b[0;32melse\u001b[0m\u001b[0;34m:\u001b[0m\u001b[0;34m\u001b[0m\u001b[0m\n\u001b[1;32m   1134\u001b[0m       return self._do_call(_prun_fn, self._session, handle, feed_dict,\n", 
                        "\u001b[0;32m/usr/local/src/bluemix_jupyter_bundle.v85/notebook/lib/python2.7/site-packages/tensorflow/python/client/session.pyc\u001b[0m in \u001b[0;36m_do_call\u001b[0;34m(self, fn, *args)\u001b[0m\n\u001b[1;32m   1137\u001b[0m   \u001b[0;32mdef\u001b[0m \u001b[0m_do_call\u001b[0m\u001b[0;34m(\u001b[0m\u001b[0mself\u001b[0m\u001b[0;34m,\u001b[0m \u001b[0mfn\u001b[0m\u001b[0;34m,\u001b[0m \u001b[0;34m*\u001b[0m\u001b[0margs\u001b[0m\u001b[0;34m)\u001b[0m\u001b[0;34m:\u001b[0m\u001b[0;34m\u001b[0m\u001b[0m\n\u001b[1;32m   1138\u001b[0m     \u001b[0;32mtry\u001b[0m\u001b[0;34m:\u001b[0m\u001b[0;34m\u001b[0m\u001b[0m\n\u001b[0;32m-> 1139\u001b[0;31m       \u001b[0;32mreturn\u001b[0m \u001b[0mfn\u001b[0m\u001b[0;34m(\u001b[0m\u001b[0;34m*\u001b[0m\u001b[0margs\u001b[0m\u001b[0;34m)\u001b[0m\u001b[0;34m\u001b[0m\u001b[0m\n\u001b[0m\u001b[1;32m   1140\u001b[0m     \u001b[0;32mexcept\u001b[0m \u001b[0merrors\u001b[0m\u001b[0;34m.\u001b[0m\u001b[0mOpError\u001b[0m \u001b[0;32mas\u001b[0m \u001b[0me\u001b[0m\u001b[0;34m:\u001b[0m\u001b[0;34m\u001b[0m\u001b[0m\n\u001b[1;32m   1141\u001b[0m       \u001b[0mmessage\u001b[0m \u001b[0;34m=\u001b[0m \u001b[0mcompat\u001b[0m\u001b[0;34m.\u001b[0m\u001b[0mas_text\u001b[0m\u001b[0;34m(\u001b[0m\u001b[0me\u001b[0m\u001b[0;34m.\u001b[0m\u001b[0mmessage\u001b[0m\u001b[0;34m)\u001b[0m\u001b[0;34m\u001b[0m\u001b[0m\n", 
                        "\u001b[0;32m/usr/local/src/bluemix_jupyter_bundle.v85/notebook/lib/python2.7/site-packages/tensorflow/python/client/session.pyc\u001b[0m in \u001b[0;36m_run_fn\u001b[0;34m(session, feed_dict, fetch_list, target_list, options, run_metadata)\u001b[0m\n\u001b[1;32m   1119\u001b[0m         return tf_session.TF_Run(session, options,\n\u001b[1;32m   1120\u001b[0m                                  \u001b[0mfeed_dict\u001b[0m\u001b[0;34m,\u001b[0m \u001b[0mfetch_list\u001b[0m\u001b[0;34m,\u001b[0m \u001b[0mtarget_list\u001b[0m\u001b[0;34m,\u001b[0m\u001b[0;34m\u001b[0m\u001b[0m\n\u001b[0;32m-> 1121\u001b[0;31m                                  status, run_metadata)\n\u001b[0m\u001b[1;32m   1122\u001b[0m \u001b[0;34m\u001b[0m\u001b[0m\n\u001b[1;32m   1123\u001b[0m     \u001b[0;32mdef\u001b[0m \u001b[0m_prun_fn\u001b[0m\u001b[0;34m(\u001b[0m\u001b[0msession\u001b[0m\u001b[0;34m,\u001b[0m \u001b[0mhandle\u001b[0m\u001b[0;34m,\u001b[0m \u001b[0mfeed_dict\u001b[0m\u001b[0;34m,\u001b[0m \u001b[0mfetch_list\u001b[0m\u001b[0;34m)\u001b[0m\u001b[0;34m:\u001b[0m\u001b[0;34m\u001b[0m\u001b[0m\n", 
                        "\u001b[0;31mKeyboardInterrupt\u001b[0m: "
                    ], 
                    "ename": "KeyboardInterrupt"
                }
            ], 
            "execution_count": 69
        }, 
        {
            "source": "As you can see, the model's perplexity rating drops very quickly after a few iterations. As was elaborated before, **lower Perplexity means that the model is more certain about its prediction**. As such, we can be sure that this model is performing well!", 
            "cell_type": "markdown", 
            "metadata": {}
        }, 
        {
            "source": "-------", 
            "cell_type": "markdown", 
            "metadata": {}
        }, 
        {
            "source": "This is the end of the **Applying Recurrent Neural Networks to Text Processing** notebook. Hopefully you now have a better understanding of Recurrent Neural Networks and how to implement one utilizing TensorFlow. Thank you for reading this notebook, and good luck on your studies.", 
            "cell_type": "markdown", 
            "metadata": {}
        }, 
        {
            "source": "## Want to learn more?\n\nRunning deep learning programs usually needs a high performance platform. PowerAI speeds up deep learning and AI. Built on IBM's Power Systems, PowerAI is a scalable software platform that accelerates deep learning and AI with blazing performance for individual users or enterprises. The PowerAI platform supports popular machine learning libraries and dependencies including Tensorflow, Caffe, Torch, and Theano. You can download a [free version of PowerAI](https://cocl.us/ML0120EN_PAI).\n\nAlso, you can use Data Science Experience to run these notebooks faster with bigger datasets. Data Science Experience is IBM's leading cloud solution for data scientists, built by data scientists. With Jupyter notebooks, RStudio, Apache Spark and popular libraries pre-packaged in the cloud, DSX enables data scientists to collaborate on their projects without having to install anything. Join the fast-growing community of DSX users today with a free account at [Data Science Experience](https://cocl.us/ML0120EN_DSX)This is the end of this lesson. Hopefully, now you have a deeper and intuitive understanding regarding the LSTM model. Thank you for reading this notebook, and good luck on your studies.", 
            "cell_type": "markdown", 
            "metadata": {}
        }, 
        {
            "source": "Created by <a href=\"https://br.linkedin.com/in/walter-gomes-de-amorim-junior-624726121\">Walter Gomes de Amorim Junior</a>, <a href = \"https://linkedin.com/in/saeedaghabozorgi\"> Saeed Aghabozorgi </a></h4>", 
            "cell_type": "markdown", 
            "metadata": {}
        }, 
        {
            "source": "", 
            "cell_type": "code", 
            "metadata": {
                "collapsed": true
            }, 
            "outputs": [], 
            "execution_count": null
        }
    ], 
    "metadata": {
        "kernelspec": {
            "display_name": "Python 2 with Spark 2.1", 
            "name": "python2-spark21", 
            "language": "python"
        }, 
        "widgets": {
            "state": {}, 
            "version": "1.1.2"
        }, 
        "language_info": {
            "mimetype": "text/x-python", 
            "nbconvert_exporter": "python", 
            "version": "2.7.11", 
            "name": "python", 
            "pygments_lexer": "ipython2", 
            "file_extension": ".py", 
            "codemirror_mode": {
                "version": 2, 
                "name": "ipython"
            }
        }, 
        "anaconda-cloud": {}
    }, 
    "nbformat": 4
}