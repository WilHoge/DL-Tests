{
    "nbformat_minor": 1, 
    "cells": [
        {
            "source": "<a href=\"https://www.bigdatauniversity.com\"><img src = \"https://ibm.box.com/shared/static/wbqvbi6o6ip0vz55ua5gp17g4f1k7ve9.png\" width = 300, align = \"center\"></a>\n\n<h1 align=center><font size = 5>RECOMMENDATION SYSTEM WITH A RESTRICTED BOLTZMANN MACHINE</font></h1>", 
            "cell_type": "markdown", 
            "metadata": {}
        }, 
        {
            "source": "Welcome to the **Recommendation System with a Restricted Boltzmann Machine** notebook. In this notebook, we study and go over the usage of a Restricted Boltzmann Machine (RBM) in a Collaborative Filtering based recommendation system. This system is an algorithm that recommends items by trying to find users that are similar to each other based on their item ratings. By the end of this notebook, you should have a deeper understanding of how Restricted Boltzmann Machines are applied, and how to build one using TensorFlow.", 
            "cell_type": "markdown", 
            "metadata": {}
        }, 
        {
            "source": "### Table of contents\n\n<div class=\"alert alert-block alert-info\" style=\"margin-top: 20px\">\n- <p><a href=\"#ref1\">Acquiring the Data</a></p>\n- <p><a href=\"#ref2\">Loading in the Data</a></p>\n- <p><a href=\"#ref3\">The Restricted Boltzmann Machine model</a></p>\n- <p><a href=\"#ref4\">Setting the Model's Parameters</a></p>\n- <p><a href=\"#ref1337\">Recommendation</a></p>\n<p></p>\n</div>\n<br>", 
            "cell_type": "markdown", 
            "metadata": {}
        }, 
        {
            "source": "----------", 
            "cell_type": "markdown", 
            "metadata": {}
        }, 
        {
            "source": "<a id=\"ref1\"></a>\n# Acquiring the Data", 
            "cell_type": "markdown", 
            "metadata": {}
        }, 
        {
            "source": "To start, we need to download the data we are going to use for our system. The datasets we're going to use were acquired by [GroupLens](http://grouplens.org/datasets/movielens/) and contain movies, users and movie ratings by these users.\n\nAfter the download is done, we extract the datasets to a directory that's easily accessible.", 
            "cell_type": "markdown", 
            "metadata": {}
        }, 
        {
            "source": "!wget -O moviedataset.zip http://files.grouplens.org/datasets/movielens/ml-1m.zip\n!unzip -o moviedataset.zip ", 
            "cell_type": "code", 
            "metadata": {}, 
            "outputs": [], 
            "execution_count": null
        }, 
        {
            "source": "With the datasets in place, let's now import the necessary libraries. We will be using [Tensorflow](https://www.tensorflow.org/) and [Numpy](http://www.numpy.org/) together to model and initialize our Restricted Boltzmann Machine and [Pandas](http://pandas.pydata.org/pandas-docs/stable/) to manipulate our datasets. To import these libraries, run the code cell below.", 
            "cell_type": "markdown", 
            "metadata": {
                "collapsed": true
            }
        }, 
        {
            "source": "#Tensorflow library. Used to implement machine learning models\nimport tensorflow as tf\n#Numpy contains helpful functions for efficient mathematical calculations\nimport numpy as np\n#Dataframe manipulation library\nimport pandas as pd\n#Graph plotting library\nimport matplotlib.pyplot as plt\n%matplotlib inline", 
            "cell_type": "code", 
            "metadata": {}, 
            "outputs": [], 
            "execution_count": 1
        }, 
        {
            "source": "-------------", 
            "cell_type": "markdown", 
            "metadata": {}
        }, 
        {
            "source": "<a id=\"ref2\"></a>\n# Loading in the Data\n\nLet's begin by loading in our data with Pandas. The .dat files containing our data are similar to CSV files, but instead of using the ',' (comma) character to separate entries, it uses '::' (two colons) characters instead. To let Pandas know that it should separate data points at every '::', we have to specify the `sep='::'` parameter when calling the function.\n\nAdditionally, we also pass it the `header=None` parameter due to the fact that our files don't contain any headers.\n\nLet's start with the movies.dat file and take a look at its structure:", 
            "cell_type": "markdown", 
            "metadata": {}
        }, 
        {
            "source": "#Loading in the movies dataset\nmovies_df = pd.read_csv('ml-1m/movies.dat', sep='::', header=None)\nmovies_df.head()", 
            "cell_type": "code", 
            "metadata": {
                "scrolled": true
            }, 
            "outputs": [
                {
                    "output_type": "stream", 
                    "name": "stderr", 
                    "text": "/usr/local/src/bluemix_jupyter_bundle.v85/notebook/lib/python2.7/site-packages/ipykernel/__main__.py:2: ParserWarning: Falling back to the 'python' engine because the 'c' engine does not support regex separators; you can avoid this warning by specifying engine='python'.\n  from ipykernel import kernelapp as app\n"
                }, 
                {
                    "output_type": "execute_result", 
                    "data": {
                        "text/html": "<div>\n<table border=\"1\" class=\"dataframe\">\n  <thead>\n    <tr style=\"text-align: right;\">\n      <th></th>\n      <th>0</th>\n      <th>1</th>\n      <th>2</th>\n    </tr>\n  </thead>\n  <tbody>\n    <tr>\n      <th>0</th>\n      <td>1</td>\n      <td>Toy Story (1995)</td>\n      <td>Animation|Children's|Comedy</td>\n    </tr>\n    <tr>\n      <th>1</th>\n      <td>2</td>\n      <td>Jumanji (1995)</td>\n      <td>Adventure|Children's|Fantasy</td>\n    </tr>\n    <tr>\n      <th>2</th>\n      <td>3</td>\n      <td>Grumpier Old Men (1995)</td>\n      <td>Comedy|Romance</td>\n    </tr>\n    <tr>\n      <th>3</th>\n      <td>4</td>\n      <td>Waiting to Exhale (1995)</td>\n      <td>Comedy|Drama</td>\n    </tr>\n    <tr>\n      <th>4</th>\n      <td>5</td>\n      <td>Father of the Bride Part II (1995)</td>\n      <td>Comedy</td>\n    </tr>\n  </tbody>\n</table>\n</div>", 
                        "text/plain": "   0                                   1                             2\n0  1                    Toy Story (1995)   Animation|Children's|Comedy\n1  2                      Jumanji (1995)  Adventure|Children's|Fantasy\n2  3             Grumpier Old Men (1995)                Comedy|Romance\n3  4            Waiting to Exhale (1995)                  Comedy|Drama\n4  5  Father of the Bride Part II (1995)                        Comedy"
                    }, 
                    "execution_count": 2, 
                    "metadata": {}
                }
            ], 
            "execution_count": 2
        }, 
        {
            "source": "We can do the same for the ratings.dat file:", 
            "cell_type": "markdown", 
            "metadata": {}
        }, 
        {
            "source": "#Loading in the ratings dataset\nratings_df = pd.read_csv('ml-1m/ratings.dat', sep='::', header=None)\nratings_df.head()", 
            "cell_type": "code", 
            "metadata": {
                "scrolled": false
            }, 
            "outputs": [
                {
                    "output_type": "stream", 
                    "name": "stderr", 
                    "text": "/usr/local/src/bluemix_jupyter_bundle.v85/notebook/lib/python2.7/site-packages/ipykernel/__main__.py:2: ParserWarning: Falling back to the 'python' engine because the 'c' engine does not support regex separators; you can avoid this warning by specifying engine='python'.\n  from ipykernel import kernelapp as app\n"
                }, 
                {
                    "output_type": "execute_result", 
                    "data": {
                        "text/html": "<div>\n<table border=\"1\" class=\"dataframe\">\n  <thead>\n    <tr style=\"text-align: right;\">\n      <th></th>\n      <th>0</th>\n      <th>1</th>\n      <th>2</th>\n      <th>3</th>\n    </tr>\n  </thead>\n  <tbody>\n    <tr>\n      <th>0</th>\n      <td>1</td>\n      <td>1193</td>\n      <td>5</td>\n      <td>978300760</td>\n    </tr>\n    <tr>\n      <th>1</th>\n      <td>1</td>\n      <td>661</td>\n      <td>3</td>\n      <td>978302109</td>\n    </tr>\n    <tr>\n      <th>2</th>\n      <td>1</td>\n      <td>914</td>\n      <td>3</td>\n      <td>978301968</td>\n    </tr>\n    <tr>\n      <th>3</th>\n      <td>1</td>\n      <td>3408</td>\n      <td>4</td>\n      <td>978300275</td>\n    </tr>\n    <tr>\n      <th>4</th>\n      <td>1</td>\n      <td>2355</td>\n      <td>5</td>\n      <td>978824291</td>\n    </tr>\n  </tbody>\n</table>\n</div>", 
                        "text/plain": "   0     1  2          3\n0  1  1193  5  978300760\n1  1   661  3  978302109\n2  1   914  3  978301968\n3  1  3408  4  978300275\n4  1  2355  5  978824291"
                    }, 
                    "execution_count": 3, 
                    "metadata": {}
                }
            ], 
            "execution_count": 3
        }, 
        {
            "source": "So our movies_df variable contains a dataframe that stores a movie's unique ID number, title and genres, while our ratings_df variable stores a unique User ID number, a movie's ID that the user has watched, the user's rating to said movie and when the user rated that movie.\n\nLet's now rename the columns in these dataframes so we can better convey their data more intuitively:", 
            "cell_type": "markdown", 
            "metadata": {}
        }, 
        {
            "source": "movies_df.columns = ['MovieID', 'Title', 'Genres']\nratings_df.columns = ['UserID', 'MovieID', 'Rating', 'Timestamp']", 
            "cell_type": "code", 
            "metadata": {}, 
            "outputs": [], 
            "execution_count": 4
        }, 
        {
            "source": "Here's our final movies_df:", 
            "cell_type": "markdown", 
            "metadata": {}
        }, 
        {
            "source": "movies_df.head()", 
            "cell_type": "code", 
            "metadata": {
                "scrolled": true
            }, 
            "outputs": [
                {
                    "output_type": "execute_result", 
                    "data": {
                        "text/html": "<div>\n<table border=\"1\" class=\"dataframe\">\n  <thead>\n    <tr style=\"text-align: right;\">\n      <th></th>\n      <th>MovieID</th>\n      <th>Title</th>\n      <th>Genres</th>\n    </tr>\n  </thead>\n  <tbody>\n    <tr>\n      <th>0</th>\n      <td>1</td>\n      <td>Toy Story (1995)</td>\n      <td>Animation|Children's|Comedy</td>\n    </tr>\n    <tr>\n      <th>1</th>\n      <td>2</td>\n      <td>Jumanji (1995)</td>\n      <td>Adventure|Children's|Fantasy</td>\n    </tr>\n    <tr>\n      <th>2</th>\n      <td>3</td>\n      <td>Grumpier Old Men (1995)</td>\n      <td>Comedy|Romance</td>\n    </tr>\n    <tr>\n      <th>3</th>\n      <td>4</td>\n      <td>Waiting to Exhale (1995)</td>\n      <td>Comedy|Drama</td>\n    </tr>\n    <tr>\n      <th>4</th>\n      <td>5</td>\n      <td>Father of the Bride Part II (1995)</td>\n      <td>Comedy</td>\n    </tr>\n  </tbody>\n</table>\n</div>", 
                        "text/plain": "   MovieID                               Title                        Genres\n0        1                    Toy Story (1995)   Animation|Children's|Comedy\n1        2                      Jumanji (1995)  Adventure|Children's|Fantasy\n2        3             Grumpier Old Men (1995)                Comedy|Romance\n3        4            Waiting to Exhale (1995)                  Comedy|Drama\n4        5  Father of the Bride Part II (1995)                        Comedy"
                    }, 
                    "execution_count": 5, 
                    "metadata": {}
                }
            ], 
            "execution_count": 5
        }, 
        {
            "source": "And our final ratings_df:", 
            "cell_type": "markdown", 
            "metadata": {}
        }, 
        {
            "source": "ratings_df.head()", 
            "cell_type": "code", 
            "metadata": {
                "scrolled": true
            }, 
            "outputs": [
                {
                    "output_type": "execute_result", 
                    "data": {
                        "text/html": "<div>\n<table border=\"1\" class=\"dataframe\">\n  <thead>\n    <tr style=\"text-align: right;\">\n      <th></th>\n      <th>UserID</th>\n      <th>MovieID</th>\n      <th>Rating</th>\n      <th>Timestamp</th>\n    </tr>\n  </thead>\n  <tbody>\n    <tr>\n      <th>0</th>\n      <td>1</td>\n      <td>1193</td>\n      <td>5</td>\n      <td>978300760</td>\n    </tr>\n    <tr>\n      <th>1</th>\n      <td>1</td>\n      <td>661</td>\n      <td>3</td>\n      <td>978302109</td>\n    </tr>\n    <tr>\n      <th>2</th>\n      <td>1</td>\n      <td>914</td>\n      <td>3</td>\n      <td>978301968</td>\n    </tr>\n    <tr>\n      <th>3</th>\n      <td>1</td>\n      <td>3408</td>\n      <td>4</td>\n      <td>978300275</td>\n    </tr>\n    <tr>\n      <th>4</th>\n      <td>1</td>\n      <td>2355</td>\n      <td>5</td>\n      <td>978824291</td>\n    </tr>\n  </tbody>\n</table>\n</div>", 
                        "text/plain": "   UserID  MovieID  Rating  Timestamp\n0       1     1193       5  978300760\n1       1      661       3  978302109\n2       1      914       3  978301968\n3       1     3408       4  978300275\n4       1     2355       5  978824291"
                    }, 
                    "execution_count": 6, 
                    "metadata": {}
                }
            ], 
            "execution_count": 6
        }, 
        {
            "source": "-----------", 
            "cell_type": "markdown", 
            "metadata": {}
        }, 
        {
            "source": "<a id=\"ref3\"></a>\n# The Restricted Boltzmann Machine model", 
            "cell_type": "markdown", 
            "metadata": {}
        }, 
        {
            "source": "<img src=\"https://ibm.box.com/shared/static/o049tx0dsllpbj3b546vuba25qqlzelq.png\" alt=\"RBM Model\" style=\"width: 300px;\"/>\n\nThe Restricted Boltzmann Machine model has two layers of neurons, one of which is what we call a visible input layer and the other is called a hidden layer. The hidden layer is used to learn features from the information fed through the input layer. For our model, the input is going to contain X neurons, where X is the amount of movies in our dataset. Each of these neurons will possess a normalized rating value varying from 0 to 1 -- 0 meaning that a user has not watched that movie and the closer the value is to 1, the more the user likes the movie that neuron's representing. These normalized values, of course, will be extracted and normalized from the ratings dataset.\n\nAfter passing in the input, we train the RBM on it and have the hidden layer learn its features. These features are what we use to reconstruct the input, which in our case, will predict the ratings for movies that the input hasn't watched, which is exactly what we can use to recommend movies!\n\nWe will now begin to format our dataset to follow the model's expected input.", 
            "cell_type": "markdown", 
            "metadata": {}
        }, 
        {
            "source": "## Formatting the Data", 
            "cell_type": "markdown", 
            "metadata": {}
        }, 
        {
            "source": "First let's see how many movies we have and see if the movie ID's correspond with that value:", 
            "cell_type": "markdown", 
            "metadata": {}
        }, 
        {
            "source": "len(movies_df)", 
            "cell_type": "code", 
            "metadata": {}, 
            "outputs": [
                {
                    "output_type": "execute_result", 
                    "data": {
                        "text/plain": "3883"
                    }, 
                    "execution_count": 7, 
                    "metadata": {}
                }
            ], 
            "execution_count": 7
        }, 
        {
            "source": "movies_df.tail()", 
            "cell_type": "code", 
            "metadata": {
                "scrolled": true
            }, 
            "outputs": [
                {
                    "output_type": "execute_result", 
                    "data": {
                        "text/html": "<div>\n<table border=\"1\" class=\"dataframe\">\n  <thead>\n    <tr style=\"text-align: right;\">\n      <th></th>\n      <th>MovieID</th>\n      <th>Title</th>\n      <th>Genres</th>\n    </tr>\n  </thead>\n  <tbody>\n    <tr>\n      <th>3878</th>\n      <td>3948</td>\n      <td>Meet the Parents (2000)</td>\n      <td>Comedy</td>\n    </tr>\n    <tr>\n      <th>3879</th>\n      <td>3949</td>\n      <td>Requiem for a Dream (2000)</td>\n      <td>Drama</td>\n    </tr>\n    <tr>\n      <th>3880</th>\n      <td>3950</td>\n      <td>Tigerland (2000)</td>\n      <td>Drama</td>\n    </tr>\n    <tr>\n      <th>3881</th>\n      <td>3951</td>\n      <td>Two Family House (2000)</td>\n      <td>Drama</td>\n    </tr>\n    <tr>\n      <th>3882</th>\n      <td>3952</td>\n      <td>Contender, The (2000)</td>\n      <td>Drama|Thriller</td>\n    </tr>\n  </tbody>\n</table>\n</div>", 
                        "text/plain": "      MovieID                       Title          Genres\n3878     3948     Meet the Parents (2000)          Comedy\n3879     3949  Requiem for a Dream (2000)           Drama\n3880     3950            Tigerland (2000)           Drama\n3881     3951     Two Family House (2000)           Drama\n3882     3952       Contender, The (2000)  Drama|Thriller"
                    }, 
                    "execution_count": 8, 
                    "metadata": {}
                }
            ], 
            "execution_count": 8
        }, 
        {
            "source": "As it is possible to notice, we have 3883 movies, while our ID's vary from 1 to 3952. Due to this, we won't be able to index movies through their ID since we would get memory indexing errors. To amend this, we can create a column that shows what spot in our list that particular movie is in:", 
            "cell_type": "markdown", 
            "metadata": {}
        }, 
        {
            "source": "movies_df['List Index'] = movies_df.index\nmovies_df.head()", 
            "cell_type": "code", 
            "metadata": {
                "scrolled": true
            }, 
            "outputs": [
                {
                    "output_type": "execute_result", 
                    "data": {
                        "text/html": "<div>\n<table border=\"1\" class=\"dataframe\">\n  <thead>\n    <tr style=\"text-align: right;\">\n      <th></th>\n      <th>MovieID</th>\n      <th>Title</th>\n      <th>Genres</th>\n      <th>List Index</th>\n    </tr>\n  </thead>\n  <tbody>\n    <tr>\n      <th>0</th>\n      <td>1</td>\n      <td>Toy Story (1995)</td>\n      <td>Animation|Children's|Comedy</td>\n      <td>0</td>\n    </tr>\n    <tr>\n      <th>1</th>\n      <td>2</td>\n      <td>Jumanji (1995)</td>\n      <td>Adventure|Children's|Fantasy</td>\n      <td>1</td>\n    </tr>\n    <tr>\n      <th>2</th>\n      <td>3</td>\n      <td>Grumpier Old Men (1995)</td>\n      <td>Comedy|Romance</td>\n      <td>2</td>\n    </tr>\n    <tr>\n      <th>3</th>\n      <td>4</td>\n      <td>Waiting to Exhale (1995)</td>\n      <td>Comedy|Drama</td>\n      <td>3</td>\n    </tr>\n    <tr>\n      <th>4</th>\n      <td>5</td>\n      <td>Father of the Bride Part II (1995)</td>\n      <td>Comedy</td>\n      <td>4</td>\n    </tr>\n  </tbody>\n</table>\n</div>", 
                        "text/plain": "   MovieID                               Title                        Genres  \\\n0        1                    Toy Story (1995)   Animation|Children's|Comedy   \n1        2                      Jumanji (1995)  Adventure|Children's|Fantasy   \n2        3             Grumpier Old Men (1995)                Comedy|Romance   \n3        4            Waiting to Exhale (1995)                  Comedy|Drama   \n4        5  Father of the Bride Part II (1995)                        Comedy   \n\n   List Index  \n0           0  \n1           1  \n2           2  \n3           3  \n4           4  "
                    }, 
                    "execution_count": 9, 
                    "metadata": {}
                }
            ], 
            "execution_count": 9
        }, 
        {
            "source": "With that, let's merge the ratings dataframe into the movies one so we can have the List Index values in both dataframes. Additionally we're also going to drop the Timestamp, Title and Genres columns since we won't be needing it to make recommendations.", 
            "cell_type": "markdown", 
            "metadata": {}
        }, 
        {
            "source": "#Merging movies_df with ratings_df by MovieID\nmerged_df = movies_df.merge(ratings_df, on='MovieID')\n#Dropping unecessary columns\nmerged_df = merged_df.drop('Timestamp', axis=1).drop('Title', axis=1).drop('Genres', axis=1)\n#Displaying the result\nmerged_df.head()", 
            "cell_type": "code", 
            "metadata": {
                "scrolled": false
            }, 
            "outputs": [
                {
                    "output_type": "execute_result", 
                    "data": {
                        "text/html": "<div>\n<table border=\"1\" class=\"dataframe\">\n  <thead>\n    <tr style=\"text-align: right;\">\n      <th></th>\n      <th>MovieID</th>\n      <th>List Index</th>\n      <th>UserID</th>\n      <th>Rating</th>\n    </tr>\n  </thead>\n  <tbody>\n    <tr>\n      <th>0</th>\n      <td>1</td>\n      <td>0</td>\n      <td>1</td>\n      <td>5</td>\n    </tr>\n    <tr>\n      <th>1</th>\n      <td>1</td>\n      <td>0</td>\n      <td>6</td>\n      <td>4</td>\n    </tr>\n    <tr>\n      <th>2</th>\n      <td>1</td>\n      <td>0</td>\n      <td>8</td>\n      <td>4</td>\n    </tr>\n    <tr>\n      <th>3</th>\n      <td>1</td>\n      <td>0</td>\n      <td>9</td>\n      <td>5</td>\n    </tr>\n    <tr>\n      <th>4</th>\n      <td>1</td>\n      <td>0</td>\n      <td>10</td>\n      <td>5</td>\n    </tr>\n  </tbody>\n</table>\n</div>", 
                        "text/plain": "   MovieID  List Index  UserID  Rating\n0        1           0       1       5\n1        1           0       6       4\n2        1           0       8       4\n3        1           0       9       5\n4        1           0      10       5"
                    }, 
                    "execution_count": 10, 
                    "metadata": {}
                }
            ], 
            "execution_count": 10
        }, 
        {
            "source": "Let's also group up the users by their user IDs and take a look at one of them.", 
            "cell_type": "markdown", 
            "metadata": {}
        }, 
        {
            "source": "#Group up by UserID\nuserGroup = merged_df.groupby('UserID')\nuserGroup.first().head()", 
            "cell_type": "code", 
            "metadata": {}, 
            "outputs": [
                {
                    "output_type": "execute_result", 
                    "data": {
                        "text/html": "<div>\n<table border=\"1\" class=\"dataframe\">\n  <thead>\n    <tr style=\"text-align: right;\">\n      <th></th>\n      <th>MovieID</th>\n      <th>List Index</th>\n      <th>Rating</th>\n    </tr>\n    <tr>\n      <th>UserID</th>\n      <th></th>\n      <th></th>\n      <th></th>\n    </tr>\n  </thead>\n  <tbody>\n    <tr>\n      <th>1</th>\n      <td>1</td>\n      <td>0</td>\n      <td>5</td>\n    </tr>\n    <tr>\n      <th>2</th>\n      <td>21</td>\n      <td>20</td>\n      <td>1</td>\n    </tr>\n    <tr>\n      <th>3</th>\n      <td>104</td>\n      <td>102</td>\n      <td>4</td>\n    </tr>\n    <tr>\n      <th>4</th>\n      <td>260</td>\n      <td>257</td>\n      <td>5</td>\n    </tr>\n    <tr>\n      <th>5</th>\n      <td>6</td>\n      <td>5</td>\n      <td>2</td>\n    </tr>\n  </tbody>\n</table>\n</div>", 
                        "text/plain": "        MovieID  List Index  Rating\nUserID                             \n1             1           0       5\n2            21          20       1\n3           104         102       4\n4           260         257       5\n5             6           5       2"
                    }, 
                    "execution_count": 11, 
                    "metadata": {}
                }
            ], 
            "execution_count": 11
        }, 
        {
            "source": "Now, we can start formatting the data into input for the RBM. We're going to store the normalized users ratings into a list of lists called trX.", 
            "cell_type": "markdown", 
            "metadata": {}
        }, 
        {
            "source": "#Amount of users used for training\namountOfUsedUsers = 1000\n#Creating the training list\ntrX = []\n#For each user in the group\nfor userID, curUser in userGroup:\n    #Create a temp that stores every movie's rating\n    temp = [0]*len(movies_df)\n    #For each movie in curUser's movie list\n    for num, movie in curUser.iterrows():\n        #Divide the rating by 5 and store it\n        temp[movie['List Index']] = movie['Rating']/5.0\n    #Now add the list of ratings into the training list\n    trX.append(temp)\n    #Check to see if we finished adding in the amount of users for training\n    if amountOfUsedUsers == 0:\n        break\n    amountOfUsedUsers -= 1", 
            "cell_type": "code", 
            "metadata": {}, 
            "outputs": [], 
            "execution_count": 12
        }, 
        {
            "source": "------------", 
            "cell_type": "markdown", 
            "metadata": {}
        }, 
        {
            "source": "<a id=\"ref4\"></a>\n# Setting the Model's Parameters", 
            "cell_type": "markdown", 
            "metadata": {}
        }, 
        {
            "source": "Next, let's start building our RBM with Tensorflow. We'll begin by first determining the amount of hidden layers and then creating placeholder variables for storing our visible layer biases, hidden layer biases and weights that connect the hidden layer with the visible one. We will be arbitrarily setting the amount of hidden layers to 20. You can freely set this value to any number you want since each neuron in the hidden layer will end up learning a feature.", 
            "cell_type": "markdown", 
            "metadata": {}
        }, 
        {
            "source": "hiddenUnits = 20\nvisibleUnits = len(movies_df)\nvb = tf.placeholder(\"float\", [visibleUnits]) #Number of unique movies\nhb = tf.placeholder(\"float\", [hiddenUnits]) #Number of features we're going to learn\nW = tf.placeholder(\"float\", [visibleUnits, hiddenUnits])", 
            "cell_type": "code", 
            "metadata": {}, 
            "outputs": [], 
            "execution_count": 13
        }, 
        {
            "source": "We then move on to creating the visible and hidden layer units and setting their activation functions. In this case, we will be using the `tf.sigmoid` and `tf.relu` functions as nonlinear activations since it's what is usually used in RBM's.", 
            "cell_type": "markdown", 
            "metadata": {}
        }, 
        {
            "source": "#Phase 1: Input Processing\nv0 = tf.placeholder(\"float\", [None, visibleUnits])\n_h0= tf.nn.sigmoid(tf.matmul(v0, W) + hb)\nh0 = tf.nn.relu(tf.sign(_h0 - tf.random_uniform(tf.shape(_h0))))\n#Phase 2: Reconstruction\n_v1 = tf.nn.sigmoid(tf.matmul(h0, tf.transpose(W)) + vb) \nv1 = tf.nn.relu(tf.sign(_v1 - tf.random_uniform(tf.shape(_v1))))\nh1 = tf.nn.sigmoid(tf.matmul(v1, W) + hb)", 
            "cell_type": "code", 
            "metadata": {}, 
            "outputs": [], 
            "execution_count": 14
        }, 
        {
            "source": "Now we set the RBM training parameters and functions.", 
            "cell_type": "markdown", 
            "metadata": {
                "collapsed": true
            }
        }, 
        {
            "source": "#Learning rate\nalpha = 1.0\n#Create the gradients\nw_pos_grad = tf.matmul(tf.transpose(v0), h0)\nw_neg_grad = tf.matmul(tf.transpose(v1), h1)\n#Calculate the Contrastive Divergence to maximize\nCD = (w_pos_grad - w_neg_grad) / tf.to_float(tf.shape(v0)[0])\n#Create methods to update the weights and biases\nupdate_w = W + alpha * CD\nupdate_vb = vb + alpha * tf.reduce_mean(v0 - v1, 0)\nupdate_hb = hb + alpha * tf.reduce_mean(h0 - h1, 0)", 
            "cell_type": "code", 
            "metadata": {}, 
            "outputs": [], 
            "execution_count": 15
        }, 
        {
            "source": "And set the error function, which in this case will be the Mean Absolute Error Function.", 
            "cell_type": "markdown", 
            "metadata": {}
        }, 
        {
            "source": "err = v0 - v1\nerr_sum = tf.reduce_mean(err * err)", 
            "cell_type": "code", 
            "metadata": {}, 
            "outputs": [], 
            "execution_count": 16
        }, 
        {
            "source": "We also have to initialize our variables. Thankfully, NumPy has a handy `zeros` function for this. We use it like so:", 
            "cell_type": "markdown", 
            "metadata": {}
        }, 
        {
            "source": "#Current weight\ncur_w = np.zeros([visibleUnits, hiddenUnits], np.float32)\n#Current visible unit biases\ncur_vb = np.zeros([visibleUnits], np.float32)\n#Current hidden unit biases\ncur_hb = np.zeros([hiddenUnits], np.float32)\n#Previous weight\nprv_w = np.zeros([visibleUnits, hiddenUnits], np.float32)\n#Previous visible unit biases\nprv_vb = np.zeros([visibleUnits], np.float32)\n#Previous hidden unit biases\nprv_hb = np.zeros([hiddenUnits], np.float32)\nsess = tf.Session()\nsess.run(tf.global_variables_initializer())", 
            "cell_type": "code", 
            "metadata": {}, 
            "outputs": [], 
            "execution_count": 17
        }, 
        {
            "source": "Now we train the RBM with 15 epochs with each epoch using 10 batches with size 100. After training, we print out a graph with the error by epoch.", 
            "cell_type": "markdown", 
            "metadata": {}
        }, 
        {
            "source": "epochs = 15\nbatchsize = 100\nerrors = []\nfor i in range(epochs):\n    for start, end in zip( range(0, len(trX), batchsize), range(batchsize, len(trX), batchsize)):\n        batch = trX[start:end]\n        cur_w = sess.run(update_w, feed_dict={v0: batch, W: prv_w, vb: prv_vb, hb: prv_hb})\n        cur_vb = sess.run(update_vb, feed_dict={v0: batch, W: prv_w, vb: prv_vb, hb: prv_hb})\n        cur_nb = sess.run(update_hb, feed_dict={v0: batch, W: prv_w, vb: prv_vb, hb: prv_hb})\n        prv_w = cur_w\n        prv_vb = cur_vb\n        prv_hb = cur_nb\n    errors.append(sess.run(err_sum, feed_dict={v0: trX, W: cur_w, vb: cur_vb, hb: cur_nb}))\n    print errors[-1]\nplt.plot(errors)\nplt.ylabel('Error')\nplt.xlabel('Epoch')\nplt.show()", 
            "cell_type": "code", 
            "metadata": {
                "scrolled": false
            }, 
            "outputs": [
                {
                    "output_type": "stream", 
                    "name": "stdout", 
                    "text": "0.123703\n0.0831525\n0.0687603\n0.0607376\n0.0538665\n0.0491865\n0.0462747\n0.0445312\n0.0430351\n0.0425843\n0.0418733\n0.0414752\n0.0407673\n0.0406971\n0.0399647\n"
                }, 
                {
                    "output_type": "display_data", 
                    "data": {
                        "image/png": "[encoded data removed]", 
                        "text/plain": "<matplotlib.figure.Figure at 0x7f6ef92ae190>"
                    }, 
                    "metadata": {}
                }
            ], 
            "execution_count": 18
        }, 
        {
            "source": "--------------", 
            "cell_type": "markdown", 
            "metadata": {}
        }, 
        {
            "source": "<a id=\"ref1337\"></a>\n## Recommendation", 
            "cell_type": "markdown", 
            "metadata": {}
        }, 
        {
            "source": "We can now predict movies that an arbitrarily selected user might like. This can be accomplished by feeding in the user's watched movie preferences into the RBM and then reconstructing the input. The values that the RBM gives us will attempt to estimate the user's preferences for movies that he hasn't watched based on the preferences of the users that the RBM was trained on.", 
            "cell_type": "markdown", 
            "metadata": {}
        }, 
        {
            "source": "#Selecting the input user\ninputUser = [trX[75]]", 
            "cell_type": "code", 
            "metadata": {}, 
            "outputs": [], 
            "execution_count": 19
        }, 
        {
            "source": "#Feeding in the user and reconstructing the input\nhh0 = tf.nn.sigmoid(tf.matmul(v0, W) + hb)\nvv1 = tf.nn.sigmoid(tf.matmul(hh0, tf.transpose(W)) + vb)\nfeed = sess.run(hh0, feed_dict={ v0: inputUser, W: prv_w, hb: prv_hb})\nrec = sess.run(vv1, feed_dict={ hh0: feed, W: prv_w, vb: prv_vb})", 
            "cell_type": "code", 
            "metadata": {}, 
            "outputs": [], 
            "execution_count": 20
        }, 
        {
            "source": "We can then list the 20 most recommended movies for our mock user by sorting it by their scores given by our model.", 
            "cell_type": "markdown", 
            "metadata": {}
        }, 
        {
            "source": "scored_movies_df_75 = movies_df\nscored_movies_df_75[\"Recommendation Score\"] = rec[0]\nscored_movies_df_75.sort([\"Recommendation Score\"], ascending=False).head(20)", 
            "cell_type": "code", 
            "metadata": {}, 
            "outputs": [
                {
                    "output_type": "stream", 
                    "name": "stderr", 
                    "text": "/usr/local/src/bluemix_jupyter_bundle.v85/notebook/lib/python2.7/site-packages/ipykernel/__main__.py:3: FutureWarning: sort(columns=....) is deprecated, use sort_values(by=.....)\n  app.launch_new_instance()\n"
                }, 
                {
                    "output_type": "execute_result", 
                    "data": {
                        "text/html": "<div>\n<table border=\"1\" class=\"dataframe\">\n  <thead>\n    <tr style=\"text-align: right;\">\n      <th></th>\n      <th>MovieID</th>\n      <th>Title</th>\n      <th>Genres</th>\n      <th>List Index</th>\n      <th>Recommendation Score</th>\n    </tr>\n  </thead>\n  <tbody>\n    <tr>\n      <th>2789</th>\n      <td>2858</td>\n      <td>American Beauty (1999)</td>\n      <td>Comedy|Drama</td>\n      <td>2789</td>\n      <td>0.861353</td>\n    </tr>\n    <tr>\n      <th>604</th>\n      <td>608</td>\n      <td>Fargo (1996)</td>\n      <td>Crime|Drama|Thriller</td>\n      <td>604</td>\n      <td>0.729696</td>\n    </tr>\n    <tr>\n      <th>589</th>\n      <td>593</td>\n      <td>Silence of the Lambs, The (1991)</td>\n      <td>Drama|Thriller</td>\n      <td>589</td>\n      <td>0.691817</td>\n    </tr>\n    <tr>\n      <th>315</th>\n      <td>318</td>\n      <td>Shawshank Redemption, The (1994)</td>\n      <td>Drama</td>\n      <td>315</td>\n      <td>0.681600</td>\n    </tr>\n    <tr>\n      <th>2327</th>\n      <td>2396</td>\n      <td>Shakespeare in Love (1998)</td>\n      <td>Comedy|Romance</td>\n      <td>2327</td>\n      <td>0.665935</td>\n    </tr>\n    <tr>\n      <th>523</th>\n      <td>527</td>\n      <td>Schindler's List (1993)</td>\n      <td>Drama|War</td>\n      <td>523</td>\n      <td>0.628853</td>\n    </tr>\n    <tr>\n      <th>1575</th>\n      <td>1617</td>\n      <td>L.A. Confidential (1997)</td>\n      <td>Crime|Film-Noir|Mystery|Thriller</td>\n      <td>1575</td>\n      <td>0.599647</td>\n    </tr>\n    <tr>\n      <th>2928</th>\n      <td>2997</td>\n      <td>Being John Malkovich (1999)</td>\n      <td>Comedy</td>\n      <td>2928</td>\n      <td>0.583347</td>\n    </tr>\n    <tr>\n      <th>293</th>\n      <td>296</td>\n      <td>Pulp Fiction (1994)</td>\n      <td>Crime|Drama</td>\n      <td>293</td>\n      <td>0.577234</td>\n    </tr>\n    <tr>\n      <th>2530</th>\n      <td>2599</td>\n      <td>Election (1999)</td>\n      <td>Comedy</td>\n      <td>2530</td>\n      <td>0.572054</td>\n    </tr>\n    <tr>\n      <th>2693</th>\n      <td>2762</td>\n      <td>Sixth Sense, The (1999)</td>\n      <td>Thriller</td>\n      <td>2693</td>\n      <td>0.558000</td>\n    </tr>\n    <tr>\n      <th>220</th>\n      <td>223</td>\n      <td>Clerks (1994)</td>\n      <td>Comedy</td>\n      <td>220</td>\n      <td>0.504847</td>\n    </tr>\n    <tr>\n      <th>1245</th>\n      <td>1265</td>\n      <td>Groundhog Day (1993)</td>\n      <td>Comedy|Romance</td>\n      <td>1245</td>\n      <td>0.472929</td>\n    </tr>\n    <tr>\n      <th>1195</th>\n      <td>1213</td>\n      <td>GoodFellas (1990)</td>\n      <td>Crime|Drama</td>\n      <td>1195</td>\n      <td>0.460097</td>\n    </tr>\n    <tr>\n      <th>1959</th>\n      <td>2028</td>\n      <td>Saving Private Ryan (1998)</td>\n      <td>Action|Drama|War</td>\n      <td>1959</td>\n      <td>0.448914</td>\n    </tr>\n    <tr>\n      <th>49</th>\n      <td>50</td>\n      <td>Usual Suspects, The (1995)</td>\n      <td>Crime|Thriller</td>\n      <td>49</td>\n      <td>0.441875</td>\n    </tr>\n    <tr>\n      <th>0</th>\n      <td>1</td>\n      <td>Toy Story (1995)</td>\n      <td>Animation|Children's|Comedy</td>\n      <td>0</td>\n      <td>0.441010</td>\n    </tr>\n    <tr>\n      <th>3091</th>\n      <td>3160</td>\n      <td>Magnolia (1999)</td>\n      <td>Drama</td>\n      <td>3091</td>\n      <td>0.440695</td>\n    </tr>\n    <tr>\n      <th>3045</th>\n      <td>3114</td>\n      <td>Toy Story 2 (1999)</td>\n      <td>Animation|Children's|Comedy</td>\n      <td>3045</td>\n      <td>0.415910</td>\n    </tr>\n    <tr>\n      <th>352</th>\n      <td>356</td>\n      <td>Forrest Gump (1994)</td>\n      <td>Comedy|Romance|War</td>\n      <td>352</td>\n      <td>0.395007</td>\n    </tr>\n  </tbody>\n</table>\n</div>", 
                        "text/plain": "      MovieID                             Title  \\\n2789     2858            American Beauty (1999)   \n604       608                      Fargo (1996)   \n589       593  Silence of the Lambs, The (1991)   \n315       318  Shawshank Redemption, The (1994)   \n2327     2396        Shakespeare in Love (1998)   \n523       527           Schindler's List (1993)   \n1575     1617          L.A. Confidential (1997)   \n2928     2997       Being John Malkovich (1999)   \n293       296               Pulp Fiction (1994)   \n2530     2599                   Election (1999)   \n2693     2762           Sixth Sense, The (1999)   \n220       223                     Clerks (1994)   \n1245     1265              Groundhog Day (1993)   \n1195     1213                 GoodFellas (1990)   \n1959     2028        Saving Private Ryan (1998)   \n49         50        Usual Suspects, The (1995)   \n0           1                  Toy Story (1995)   \n3091     3160                   Magnolia (1999)   \n3045     3114                Toy Story 2 (1999)   \n352       356               Forrest Gump (1994)   \n\n                                Genres  List Index  Recommendation Score  \n2789                      Comedy|Drama        2789              0.861353  \n604               Crime|Drama|Thriller         604              0.729696  \n589                     Drama|Thriller         589              0.691817  \n315                              Drama         315              0.681600  \n2327                    Comedy|Romance        2327              0.665935  \n523                          Drama|War         523              0.628853  \n1575  Crime|Film-Noir|Mystery|Thriller        1575              0.599647  \n2928                            Comedy        2928              0.583347  \n293                        Crime|Drama         293              0.577234  \n2530                            Comedy        2530              0.572054  \n2693                          Thriller        2693              0.558000  \n220                             Comedy         220              0.504847  \n1245                    Comedy|Romance        1245              0.472929  \n1195                       Crime|Drama        1195              0.460097  \n1959                  Action|Drama|War        1959              0.448914  \n49                      Crime|Thriller          49              0.441875  \n0          Animation|Children's|Comedy           0              0.441010  \n3091                             Drama        3091              0.440695  \n3045       Animation|Children's|Comedy        3045              0.415910  \n352                 Comedy|Romance|War         352              0.395007  "
                    }, 
                    "execution_count": 21, 
                    "metadata": {}
                }
            ], 
            "execution_count": 21
        }, 
        {
            "source": "So, how to recommend the movies that the user has not watched yet? \n\nLets first find the __User ID__ of our mock user:", 
            "cell_type": "markdown", 
            "metadata": {}
        }, 
        {
            "source": "merged_df.iloc[75]", 
            "cell_type": "code", 
            "metadata": {}, 
            "outputs": [
                {
                    "output_type": "execute_result", 
                    "data": {
                        "text/plain": "MovieID         1\nList Index      0\nUserID        215\nRating          4\nName: 75, dtype: int64"
                    }, 
                    "execution_count": 22, 
                    "metadata": {}
                }
            ], 
            "execution_count": 22
        }, 
        {
            "source": "Now, we can find all the movies that our mock user has watched before:", 
            "cell_type": "markdown", 
            "metadata": {}
        }, 
        {
            "source": "movies_df_75 = merged_df[merged_df['UserID']==215]\nmovies_df_75.head()", 
            "cell_type": "code", 
            "metadata": {}, 
            "outputs": [
                {
                    "output_type": "execute_result", 
                    "data": {
                        "text/html": "<div>\n<table border=\"1\" class=\"dataframe\">\n  <thead>\n    <tr style=\"text-align: right;\">\n      <th></th>\n      <th>MovieID</th>\n      <th>List Index</th>\n      <th>UserID</th>\n      <th>Rating</th>\n    </tr>\n  </thead>\n  <tbody>\n    <tr>\n      <th>75</th>\n      <td>1</td>\n      <td>0</td>\n      <td>215</td>\n      <td>4</td>\n    </tr>\n    <tr>\n      <th>11873</th>\n      <td>24</td>\n      <td>23</td>\n      <td>215</td>\n      <td>5</td>\n    </tr>\n    <tr>\n      <th>67543</th>\n      <td>260</td>\n      <td>257</td>\n      <td>215</td>\n      <td>5</td>\n    </tr>\n    <tr>\n      <th>82782</th>\n      <td>316</td>\n      <td>313</td>\n      <td>215</td>\n      <td>4</td>\n    </tr>\n    <tr>\n      <th>97063</th>\n      <td>356</td>\n      <td>352</td>\n      <td>215</td>\n      <td>5</td>\n    </tr>\n  </tbody>\n</table>\n</div>", 
                        "text/plain": "       MovieID  List Index  UserID  Rating\n75           1           0     215       4\n11873       24          23     215       5\n67543      260         257     215       5\n82782      316         313     215       4\n97063      356         352     215       5"
                    }, 
                    "execution_count": 23, 
                    "metadata": {}
                }
            ], 
            "execution_count": 23
        }, 
        {
            "source": "In the next cell, we merge all the movies that our mock users has watched with the predicted scors based on his historical data:", 
            "cell_type": "markdown", 
            "metadata": {}
        }, 
        {
            "source": "#Merging movies_df with ratings_df by MovieID\nmerged_df_75 = scored_movies_df_75.merge(movies_df_75, on='MovieID', how='outer')\n#Dropping unecessary columns\nmerged_df_75 = merged_df_75.drop('List Index_y', axis=1).drop('UserID', axis=1)", 
            "cell_type": "code", 
            "metadata": {}, 
            "outputs": [], 
            "execution_count": 24
        }, 
        {
            "source": "lets sort it and take a look at the firt 20 rows:", 
            "cell_type": "markdown", 
            "metadata": {}
        }, 
        {
            "source": "merged_df_75.sort([\"Recommendation Score\"], ascending=False).head(20)", 
            "cell_type": "code", 
            "metadata": {}, 
            "outputs": [
                {
                    "output_type": "stream", 
                    "name": "stderr", 
                    "text": "/usr/local/src/bluemix_jupyter_bundle.v85/notebook/lib/python2.7/site-packages/ipykernel/__main__.py:1: FutureWarning: sort(columns=....) is deprecated, use sort_values(by=.....)\n  if __name__ == '__main__':\n"
                }, 
                {
                    "output_type": "execute_result", 
                    "data": {
                        "text/html": "<div>\n<table border=\"1\" class=\"dataframe\">\n  <thead>\n    <tr style=\"text-align: right;\">\n      <th></th>\n      <th>MovieID</th>\n      <th>Title</th>\n      <th>Genres</th>\n      <th>List Index_x</th>\n      <th>Recommendation Score</th>\n      <th>Rating</th>\n    </tr>\n  </thead>\n  <tbody>\n    <tr>\n      <th>2789</th>\n      <td>2858</td>\n      <td>American Beauty (1999)</td>\n      <td>Comedy|Drama</td>\n      <td>2789</td>\n      <td>0.861353</td>\n      <td>NaN</td>\n    </tr>\n    <tr>\n      <th>604</th>\n      <td>608</td>\n      <td>Fargo (1996)</td>\n      <td>Crime|Drama|Thriller</td>\n      <td>604</td>\n      <td>0.729696</td>\n      <td>NaN</td>\n    </tr>\n    <tr>\n      <th>589</th>\n      <td>593</td>\n      <td>Silence of the Lambs, The (1991)</td>\n      <td>Drama|Thriller</td>\n      <td>589</td>\n      <td>0.691817</td>\n      <td>NaN</td>\n    </tr>\n    <tr>\n      <th>315</th>\n      <td>318</td>\n      <td>Shawshank Redemption, The (1994)</td>\n      <td>Drama</td>\n      <td>315</td>\n      <td>0.681600</td>\n      <td>NaN</td>\n    </tr>\n    <tr>\n      <th>2327</th>\n      <td>2396</td>\n      <td>Shakespeare in Love (1998)</td>\n      <td>Comedy|Romance</td>\n      <td>2327</td>\n      <td>0.665935</td>\n      <td>NaN</td>\n    </tr>\n    <tr>\n      <th>523</th>\n      <td>527</td>\n      <td>Schindler's List (1993)</td>\n      <td>Drama|War</td>\n      <td>523</td>\n      <td>0.628853</td>\n      <td>NaN</td>\n    </tr>\n    <tr>\n      <th>1575</th>\n      <td>1617</td>\n      <td>L.A. Confidential (1997)</td>\n      <td>Crime|Film-Noir|Mystery|Thriller</td>\n      <td>1575</td>\n      <td>0.599647</td>\n      <td>4</td>\n    </tr>\n    <tr>\n      <th>2928</th>\n      <td>2997</td>\n      <td>Being John Malkovich (1999)</td>\n      <td>Comedy</td>\n      <td>2928</td>\n      <td>0.583347</td>\n      <td>NaN</td>\n    </tr>\n    <tr>\n      <th>293</th>\n      <td>296</td>\n      <td>Pulp Fiction (1994)</td>\n      <td>Crime|Drama</td>\n      <td>293</td>\n      <td>0.577234</td>\n      <td>NaN</td>\n    </tr>\n    <tr>\n      <th>2530</th>\n      <td>2599</td>\n      <td>Election (1999)</td>\n      <td>Comedy</td>\n      <td>2530</td>\n      <td>0.572054</td>\n      <td>NaN</td>\n    </tr>\n    <tr>\n      <th>2693</th>\n      <td>2762</td>\n      <td>Sixth Sense, The (1999)</td>\n      <td>Thriller</td>\n      <td>2693</td>\n      <td>0.558000</td>\n      <td>NaN</td>\n    </tr>\n    <tr>\n      <th>220</th>\n      <td>223</td>\n      <td>Clerks (1994)</td>\n      <td>Comedy</td>\n      <td>220</td>\n      <td>0.504847</td>\n      <td>NaN</td>\n    </tr>\n    <tr>\n      <th>1245</th>\n      <td>1265</td>\n      <td>Groundhog Day (1993)</td>\n      <td>Comedy|Romance</td>\n      <td>1245</td>\n      <td>0.472929</td>\n      <td>NaN</td>\n    </tr>\n    <tr>\n      <th>1195</th>\n      <td>1213</td>\n      <td>GoodFellas (1990)</td>\n      <td>Crime|Drama</td>\n      <td>1195</td>\n      <td>0.460097</td>\n      <td>NaN</td>\n    </tr>\n    <tr>\n      <th>1959</th>\n      <td>2028</td>\n      <td>Saving Private Ryan (1998)</td>\n      <td>Action|Drama|War</td>\n      <td>1959</td>\n      <td>0.448914</td>\n      <td>NaN</td>\n    </tr>\n    <tr>\n      <th>49</th>\n      <td>50</td>\n      <td>Usual Suspects, The (1995)</td>\n      <td>Crime|Thriller</td>\n      <td>49</td>\n      <td>0.441875</td>\n      <td>NaN</td>\n    </tr>\n    <tr>\n      <th>0</th>\n      <td>1</td>\n      <td>Toy Story (1995)</td>\n      <td>Animation|Children's|Comedy</td>\n      <td>0</td>\n      <td>0.441010</td>\n      <td>4</td>\n    </tr>\n    <tr>\n      <th>3091</th>\n      <td>3160</td>\n      <td>Magnolia (1999)</td>\n      <td>Drama</td>\n      <td>3091</td>\n      <td>0.440695</td>\n      <td>NaN</td>\n    </tr>\n    <tr>\n      <th>3045</th>\n      <td>3114</td>\n      <td>Toy Story 2 (1999)</td>\n      <td>Animation|Children's|Comedy</td>\n      <td>3045</td>\n      <td>0.415910</td>\n      <td>NaN</td>\n    </tr>\n    <tr>\n      <th>352</th>\n      <td>356</td>\n      <td>Forrest Gump (1994)</td>\n      <td>Comedy|Romance|War</td>\n      <td>352</td>\n      <td>0.395007</td>\n      <td>5</td>\n    </tr>\n  </tbody>\n</table>\n</div>", 
                        "text/plain": "      MovieID                             Title  \\\n2789     2858            American Beauty (1999)   \n604       608                      Fargo (1996)   \n589       593  Silence of the Lambs, The (1991)   \n315       318  Shawshank Redemption, The (1994)   \n2327     2396        Shakespeare in Love (1998)   \n523       527           Schindler's List (1993)   \n1575     1617          L.A. Confidential (1997)   \n2928     2997       Being John Malkovich (1999)   \n293       296               Pulp Fiction (1994)   \n2530     2599                   Election (1999)   \n2693     2762           Sixth Sense, The (1999)   \n220       223                     Clerks (1994)   \n1245     1265              Groundhog Day (1993)   \n1195     1213                 GoodFellas (1990)   \n1959     2028        Saving Private Ryan (1998)   \n49         50        Usual Suspects, The (1995)   \n0           1                  Toy Story (1995)   \n3091     3160                   Magnolia (1999)   \n3045     3114                Toy Story 2 (1999)   \n352       356               Forrest Gump (1994)   \n\n                                Genres  List Index_x  Recommendation Score  \\\n2789                      Comedy|Drama          2789              0.861353   \n604               Crime|Drama|Thriller           604              0.729696   \n589                     Drama|Thriller           589              0.691817   \n315                              Drama           315              0.681600   \n2327                    Comedy|Romance          2327              0.665935   \n523                          Drama|War           523              0.628853   \n1575  Crime|Film-Noir|Mystery|Thriller          1575              0.599647   \n2928                            Comedy          2928              0.583347   \n293                        Crime|Drama           293              0.577234   \n2530                            Comedy          2530              0.572054   \n2693                          Thriller          2693              0.558000   \n220                             Comedy           220              0.504847   \n1245                    Comedy|Romance          1245              0.472929   \n1195                       Crime|Drama          1195              0.460097   \n1959                  Action|Drama|War          1959              0.448914   \n49                      Crime|Thriller            49              0.441875   \n0          Animation|Children's|Comedy             0              0.441010   \n3091                             Drama          3091              0.440695   \n3045       Animation|Children's|Comedy          3045              0.415910   \n352                 Comedy|Romance|War           352              0.395007   \n\n      Rating  \n2789     NaN  \n604      NaN  \n589      NaN  \n315      NaN  \n2327     NaN  \n523      NaN  \n1575       4  \n2928     NaN  \n293      NaN  \n2530     NaN  \n2693     NaN  \n220      NaN  \n1245     NaN  \n1195     NaN  \n1959     NaN  \n49       NaN  \n0          4  \n3091     NaN  \n3045     NaN  \n352        5  "
                    }, 
                    "execution_count": 25, 
                    "metadata": {}
                }
            ], 
            "execution_count": 25
        }, 
        {
            "source": "As you can see, there are some movies that user has not watched yet and has high score based on our model. So, we can recommend them to user.", 
            "cell_type": "markdown", 
            "metadata": {}
        }, 
        {
            "source": "This is the end of the module. If you want, you can try to change the parameters in the code -- adding more units to the hidden layer, changing the loss functions or maybe something else to see if it changes anything. Does the model perform better? Does it take longer to compute?\n\nThank you for reading this notebook. Hopefully, you now have a little more understanding of the RBM model, its applications and how it works with TensorFlow.", 
            "cell_type": "markdown", 
            "metadata": {}
        }, 
        {
            "source": "## Want to learn more?\n\nRunning deep learning programs usually needs a high performance platform. PowerAI speeds up deep learning and AI. Built on IBM's Power Systems, PowerAI is a scalable software platform that accelerates deep learning and AI with blazing performance for individual users or enterprises. The PowerAI platform supports popular machine learning libraries and dependencies including Tensorflow, Caffe, Torch, and Theano. You can download a [free version of PowerAI](https://cocl.us/ML0120EN_PAI).\n\nAlso, you can use Data Science Experience to run these notebooks faster with bigger datasets. Data Science Experience is IBM's leading cloud solution for data scientists, built by data scientists. With Jupyter notebooks, RStudio, Apache Spark and popular libraries pre-packaged in the cloud, DSX enables data scientists to collaborate on their projects without having to install anything. Join the fast-growing community of DSX users today with a free account at [Data Science Experience](https://cocl.us/ML0120EN_DSX)This is the end of this lesson. Hopefully, now you have a deeper and intuitive understanding regarding the LSTM model. Thank you for reading this notebook, and good luck on your studies.", 
            "cell_type": "markdown", 
            "metadata": {}
        }, 
        {
            "source": "### Thank you for completing this exercise!\n\nNotebook created by: Gabriel Garcez Barros Sousa, <a href = \"https://ca.linkedin.com/in/saeedaghabozorgi\">Saeed Aghabozorgi</a>, <a href = \"https://www.linkedin.com/in/franciscomagioli\">Francisco Magioli</a>", 
            "cell_type": "markdown", 
            "metadata": {}
        }, 
        {
            "source": "## References\n* [Restricted Boltzmann Machines for Collaborative Filtering](http://www.cs.utoronto.ca/~hinton/absps/netflixICML.pdf)\n* <font='red'>RBM Notebook</font>", 
            "cell_type": "markdown", 
            "metadata": {}
        }, 
        {
            "source": "<hr>\nCopyright &copy; 2017 [IBM Cognitive Class](https://cocl.us/ML0120EN_cclab_cc). This notebook and its source code are released under the terms of the [MIT License](https://cognitiveclass.ai/mit-license/).", 
            "cell_type": "markdown", 
            "metadata": {}
        }, 
        {
            "source": "", 
            "cell_type": "code", 
            "metadata": {}, 
            "outputs": [], 
            "execution_count": null
        }
    ], 
    "metadata": {
        "kernelspec": {
            "display_name": "Python 2 with Spark 2.1", 
            "name": "python2-spark21", 
            "language": "python"
        }, 
        "widgets": {
            "state": {}, 
            "version": "1.1.2"
        }, 
        "language_info": {
            "mimetype": "text/x-python", 
            "nbconvert_exporter": "python", 
            "version": "2.7.11", 
            "name": "python", 
            "pygments_lexer": "ipython2", 
            "file_extension": ".py", 
            "codemirror_mode": {
                "version": 2, 
                "name": "ipython"
            }
        }
    }, 
    "nbformat": 4
}